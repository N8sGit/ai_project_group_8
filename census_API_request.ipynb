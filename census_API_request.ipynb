{
 "cells": [
  {
   "cell_type": "markdown",
   "metadata": {},
   "source": [
    "### Loading Environmental Dependencies\n",
    "\n",
    "Initial uncertainty as to the amount of work being done in this notebook lead to a potentially larger-than-necessary number of dependencies being loaded in"
   ]
  },
  {
   "cell_type": "code",
   "execution_count": null,
   "metadata": {},
   "outputs": [],
   "source": [
    "# Declaring imports\n",
    "import pandas as pd\n",
    "import requests\n",
    "import json\n",
    "import os\n",
    "from dotenv import load_dotenv"
   ]
  },
  {
   "cell_type": "markdown",
   "metadata": {},
   "source": [
    "Similarly, both potential Census-related API's were loaded as a precaution."
   ]
  },
  {
   "cell_type": "code",
   "execution_count": null,
   "metadata": {},
   "outputs": [],
   "source": [
    "# US Census Data requirements\n",
    "from census import Census\n",
    "from us import states"
   ]
  },
  {
   "cell_type": "markdown",
   "metadata": {},
   "source": [
    "### Establishing API Key\n",
    "\n",
    "If being run, be sure to include your US Census API Key in your `.env`"
   ]
  },
  {
   "cell_type": "code",
   "execution_count": null,
   "metadata": {},
   "outputs": [],
   "source": [
    "# API Key\n",
    "# Load environment variables and U.S. Census API key\n",
    "load_dotenv()\n",
    "api_key = os.getenv(\"CENSUS_API_KEY\")"
   ]
  },
  {
   "cell_type": "markdown",
   "metadata": {},
   "source": [
    "### API Request Loop\n",
    "\n",
    "Built off the code we learned for Module 6, Day 3, Exercise 3, this loop runs through the `.get()` requests for the years 2012 to 2022 and assigns a year value to DataFrame created from the returned `.json`s"
   ]
  },
  {
   "cell_type": "code",
   "execution_count": null,
   "metadata": {},
   "outputs": [],
   "source": [
    "# Create empty list for the eventual DataFrame\n",
    "acs5_list = []\n",
    "\n",
    "# Create a list of years for the Census Library instance\n",
    "years = [x for x in range(2012,2023)]\n",
    "\n",
    "# For statement to loop through years in `years` as instances for Census Library\n",
    "for year in years:\n",
    "    # Create an instance of the Census library\n",
    "    c = Census(\n",
    "        api_key,\n",
    "        year = int(year)\n",
    "    )\n",
    "    # Run Census Search to retrieve data on all states (ACS1 Census for `year`)\n",
    "    acs5_data = c.acs5.get(\n",
    "        (\n",
    "            \"NAME\",\n",
    "            \"B19013_001E\", # income\n",
    "            \"B19301_001E\", # income_per_capita\n",
    "            \"B23025_002E\", # employment_labor_force\n",
    "            \"B23025_003E\", # employment_civilian_labor_force\n",
    "            \"B23025_004E\", # employment_employed\n",
    "            \"B23025_005E\", # employment_unemployed\n",
    "            \"C24010_006E\", # employment_male_business_and_financial_operations_occupations\n",
    "            \"C24010_007E\" , # employment_male_computer_engineering_and_science_occupations\n",
    "            \"C24010_008E\" , # employment_male_computer_and_mathematical_occupations\n",
    "            \"C24010_042E\" , # employment_female_business_and_financial_operations_occupations\n",
    "            \"C24010_043E\" , # employment_female_computer_engineering_and_science_occupations\n",
    "            \"C24010_044E\" , # employment_female_computer_and_mathematical_occupations\n",
    "            \"B17001_002E\" , # poverty\n",
    "            \"B01002_001E\" , # age\n",
    "            \"B01003_001E\" , # population\n",
    "            \"B25064_001E\" , # median_gross_rent\n",
    "            \"B25077_001E\" , # median_home_value\n",
    "            \"B15003_002E\" , # education_none\n",
    "            \"B15003_017E\" , # education_high_school\n",
    "            \"B15003_018E\" , # education_ged\n",
    "            \"B15003_021E\" , # education_associates\n",
    "            \"B15003_022E\" , # education_bachelors\n",
    "            \"B15003_023E\" , # education_masters\n",
    "            \"B15003_024E\" , # education_professional\n",
    "            \"B15003_025E\" # education_doctorate\n",
    "        ), \n",
    "        {'for': 'state:*'}\n",
    "    )\n",
    "    # Convert to DataFrame\n",
    "    acs5_part = pd.DataFrame(acs5_data)\n",
    "    # Add `year` to DataFrame\n",
    "    acs5_part['Year'] = year\n",
    "    # Append data from `year` to working DataFrame\n",
    "    acs5_list.append(acs5_part)"
   ]
  },
  {
   "cell_type": "markdown",
   "metadata": {},
   "source": [
    "### Data Cleaning\n",
    "\n",
    "As a list of DataFrames was created with the previous loop, `.concat()` is necessary to group all the data on one DataFrame"
   ]
  },
  {
   "cell_type": "code",
   "execution_count": null,
   "metadata": {},
   "outputs": [],
   "source": [
    "# Concatenating the list of DataFrames into one DataFrame\n",
    "combined_acs5 = pd.concat(acs5_list, ignore_index=True)"
   ]
  },
  {
   "cell_type": "markdown",
   "metadata": {},
   "source": [
    "Columns are then renamed for readability"
   ]
  },
  {
   "cell_type": "code",
   "execution_count": null,
   "metadata": {},
   "outputs": [],
   "source": [
    "# Column renaming\n",
    "combined_acs5 = combined_acs5.rename(\n",
    "    columns = {\n",
    "        \"NAME\": \"Name\",\n",
    "        \"B19013_001E\": \"income\",\n",
    "        \"B19301_001E\": \"income_per_capita\",\n",
    "        \"B23025_002E\": \"employment_labor_force\",\n",
    "        \"B23025_003E\": \"employment_civilian_labor_force\",\n",
    "        \"B23025_004E\": \"employment_employed\",\n",
    "        \"B23025_005E\": \"employment_unemployed\",\n",
    "        \"C24010_006E\": \"employment_male_business_and_financial_operations_occupations\",\n",
    "        \"C24010_007E\": \"employment_male_computer_engineering_and_science_occupations\",\n",
    "        \"C24010_008E\": \"employment_male_computer_and_mathematical_occupations\",\n",
    "        \"C24010_042E\": \"employment_female_business_and_financial_operations_occupations\",\n",
    "        \"C24010_043E\": \"employment_female_computer_engineering_and_science_occupations\",\n",
    "        \"C24010_044E\": \"employment_female_computer_and_mathematical_occupations\",\n",
    "        \"B17001_002E\": \"poverty\",\n",
    "        \"B01002_001E\": \"age\",\n",
    "        \"B01003_001E\": \"population\",\n",
    "        \"B25064_001E\": \"median_gross_rent\",\n",
    "        \"B25077_001E\": \"median_home_value\",\n",
    "        \"B15003_002E\": \"education_none\",\n",
    "        \"B15003_017E\": \"education_high_school\",\n",
    "        \"B15003_018E\": \"education_ged\",\n",
    "        \"B15003_021E\": \"education_associates\",\n",
    "        \"B15003_022E\": \"education_bachelors\",\n",
    "        \"B15003_023E\": \"education_masters\",\n",
    "        \"B15003_024E\": \"education_professional\",\n",
    "        \"B15003_025E\": \"education_doctorate\"\n",
    "    }\n",
    ")"
   ]
  },
  {
   "cell_type": "markdown",
   "metadata": {},
   "source": [
    "Final confirmation that the `Year` was applied correctly during previous steps, and that all requested years are in the final DataFrame"
   ]
  },
  {
   "cell_type": "code",
   "execution_count": null,
   "metadata": {},
   "outputs": [],
   "source": [
    "# Confirming the concatenation\n",
    "display(combined_acs5.head(3))\n",
    "display(combined_acs5.tail(3))"
   ]
  },
  {
   "cell_type": "markdown",
   "metadata": {},
   "source": [
    "### Export\n",
    "\n",
    "Once cleaned and prepared, the DataFrame is exported as a `.csv` for use in the group `.ipynb` file"
   ]
  },
  {
   "cell_type": "code",
   "execution_count": null,
   "metadata": {},
   "outputs": [],
   "source": [
    "# Explorting to `.csv` for use in group\n",
    "combined_acs5.to_csv('combined_acs5_12-22_data.csv')"
   ]
  }
 ],
 "metadata": {
  "kernelspec": {
   "display_name": "ai_dev",
   "language": "python",
   "name": "ai_dev"
  },
  "language_info": {
   "codemirror_mode": {
    "name": "ipython",
    "version": 3
   },
   "file_extension": ".py",
   "mimetype": "text/x-python",
   "name": "python",
   "nbconvert_exporter": "python",
   "pygments_lexer": "ipython3",
   "version": "3.10.13"
  }
 },
 "nbformat": 4,
 "nbformat_minor": 4
}
