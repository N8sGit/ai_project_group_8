{
 "cells": [
  {
   "cell_type": "code",
   "execution_count": null,
   "id": "5b7209e4-3605-478b-99da-26069ad65d42",
   "metadata": {},
   "outputs": [],
   "source": [
    "# Install the required libraries\n",
    "#!pip install prophet"
   ]
  },
  {
   "cell_type": "code",
   "execution_count": null,
   "id": "79c9ded7-b4be-4175-933f-3df2b445cfa8",
   "metadata": {},
   "outputs": [],
   "source": [
    "# Dependencies\n",
    "import pandas as pd\n",
    "import numpy as np\n",
    "import matplotlib.pyplot as plt \n",
    "import re"
   ]
  },
  {
   "cell_type": "code",
   "execution_count": null,
   "id": "681e429e-361f-401b-880d-1a9b83533c3b",
   "metadata": {},
   "outputs": [],
   "source": [
    "#Read data into the notebook\n",
    "aicompany_profits_df = pd.read_csv('./data_sets/AI_AmericanCompaniesProfits.csv').dropna()\n",
    "linkedin_postings_df = pd.read_csv('./data_sets/postings.csv').dropna()\n",
    "machine_learning_jobs_df = pd.read_json('./data_sets/job_data.json', lines=True)\n",
    "\n",
    "# Normalize, clean, massage, and combine data for ease of processing\n",
    "\n",
    "# Cast all job skills to lower case strings to standardize string matching later\n",
    "linkedin_postings_df['job_skills'] = linkedin_postings_df['job_skills'].apply(lambda item: item.lower().split(', '))"
   ]
  },
  {
   "cell_type": "code",
   "execution_count": null,
   "id": "a5275c31-588c-4aa2-9b10-dda7e427c399",
   "metadata": {},
   "outputs": [],
   "source": [
    "print(aicompany_profits_df.head(5))"
   ]
  },
  {
   "cell_type": "code",
   "execution_count": null,
   "id": "9b4c1589",
   "metadata": {},
   "outputs": [],
   "source": [
    "linkedin_postings_df['job_skills'] = linkedin_postings_df['job_skills'].apply(lambda item: item.lower().split(', '))\n",
    "# Get all job listings with an AI related keyword  listed as a skill requirement \n",
    "terms_to_match = ['machine learning', 'artificial intelligence', 'pytorch', 'langchain', 'ai', 'tensorflow', 'deep learning', 'neural network', \n",
    "               'natural language processing', 'nlp', 'computer vision', 'large language models', 'chatbot', 'ai chatbot', 'llm', 'llms', 'generative ai', 'generative models', 'genai', 'bert', 'spacy', 'nltk', 'keras', 'gpt', 'chatgpt', 'prompt development', 'prompt engineering']\n",
    "linkedin_postings_df['job_skills'] = linkedin_postings_df['job_skills']\n",
    "linkedin_postings_df['has_ai'] = linkedin_postings_df['job_skills'].apply(\n",
    "    lambda skills: any(term in skills for term in terms_to_match)\n",
    ")\n",
    "#Separate the groupings into two new dataframes\n",
    "ai_roles = linkedin_postings_df.loc[linkedin_postings_df['has_ai'] == True]\n",
    "# Job listings without AI keywords will be classified as \"general\" roles\n",
    "general_roles = linkedin_postings_df.loc[linkedin_postings_df['has_ai'] == False] "
   ]
  },
  {
   "cell_type": "markdown",
   "id": "70dad630-f2c6-4262-92c4-a63ffc8c0cdb",
   "metadata": {},
   "source": [
    "***Introduction*** \n",
    "The goal of this exploratory data analysis is to characterize and investigate the growth of machine learning as a job skill. We are interested in looking at this topic along a number angles. TBC....\n",
    "Our dataset includes 9367 job postings takend from linkedin for the 2023 calendar year. "
   ]
  },
  {
   "cell_type": "markdown",
   "id": "3d17b49a-4c47-4758-817c-2084eed6651d",
   "metadata": {},
   "source": [
    "# US Census Predictions\n",
    "\n",
    "Based on the available data from the US Census API for the years of 2012 to 2022, what relationships can be found between jobs that would most likely use AI/ML skills (referred to as tech-related jobs, as the closest available data applied to three sectors with descriptions closest to the needs of this project) and other national trends? Most particularly, in the frame of average national percentages, what correlations can be drawn between tech-related jobs and education levels and unemployment rates?"
   ]
  },
  {
   "cell_type": "markdown",
   "id": "6c4c5e55",
   "metadata": {},
   "source": [
    "### Additional assets required\n",
    "\n",
    "Importing Prophet and the previously compiled data from the US Census API ACS 5-Year rolling estimates (see `census_API_request.ipynb`)"
   ]
  },
  {
   "cell_type": "code",
   "execution_count": null,
   "id": "42e04062-d256-4482-b9dd-b040b62c3445",
   "metadata": {},
   "outputs": [],
   "source": [
    "# Additional dependencies\n",
    "from prophet import Prophet"
   ]
  },
  {
   "cell_type": "code",
   "execution_count": null,
   "id": "02044164",
   "metadata": {},
   "outputs": [],
   "source": [
    "# Additional data reading\n",
    "combined_acs5 = pd.read_csv('./data_sets/combined_acs5_12-22_data.csv')"
   ]
  },
  {
   "cell_type": "markdown",
   "id": "857a96a6",
   "metadata": {},
   "source": [
    "### Preparing the Data\n",
    "\n",
    "Once imported, the data from the US Census API needs to be manipulated for EDA purposes. This is accomplished by slicing necessary columns from the source DataFrame and calculating other potentially necessary fields from there.\n",
    "\n",
    "The following fields are directly imported from the source file;\\\n",
    "\\\n",
    "`Name`\\\n",
    "`Year`\\\n",
    "`population`\\\n",
    "`employment_employed`\\\n",
    "`employment_unemployed`\\\n",
    "`education_none`\\\n",
    "`education_high_school`\\\n",
    "`education_ged`\\\n",
    "`education_associates`\\\n",
    "`education_bachelors`\\\n",
    "`education_masters`\\\n",
    "`education_professional`\\\n",
    "`education_doctorate`\\\n",
    "\\\n",
    "The following fields are calculated based off the variable population against the state population;\\\n",
    "\\\n",
    "`Percent Employed`\\\n",
    "`Percent Unemployed`\\\n",
    "`Total Pop in Tech Fields`\\\n",
    "`Percent in Tech Fields`\\\n",
    "`Percent No Education`\\\n",
    "`Percent High School`\\\n",
    "`Percent GED`\\\n",
    "`Percent Associates`\\\n",
    "`Percent Bachelors`\\\n",
    "`Percent Masters`\\\n",
    "`Percent Professional Education`\\\n",
    "`Percent Doctorate`\\\n",
    "\\\n",
    "**Note:** While not all columns were used in the final analysis, each played a role during the EDA process."
   ]
  },
  {
   "cell_type": "code",
   "execution_count": null,
   "id": "1d3032bc",
   "metadata": {},
   "outputs": [],
   "source": [
    "# Creating a working DF for population calculations\n",
    "for row in combined_acs5:\n",
    "    # Slicing columns from the UC Sensus data source DataFrame\n",
    "    pop_data = combined_acs5.loc[:,[\n",
    "                'Name',\n",
    "                'Year',\n",
    "                'population',\n",
    "                'employment_employed',\n",
    "                'employment_unemployed',\n",
    "                'education_none',\n",
    "                'education_high_school',\n",
    "                'education_ged',\n",
    "                'education_associates',\n",
    "                'education_bachelors',\n",
    "                'education_masters',\n",
    "                'education_professional',\n",
    "                'education_doctorate'\n",
    "                ]]\n",
    "    # Calculating the percentage of employed and unemployed populations\n",
    "    pop_data['Percent Employed'] = (combined_acs5.loc[:,'employment_employed']/combined_acs5.loc[:,'population']) * 100\n",
    "    pop_data['Percent Unemployed'] = (combined_acs5.loc[:,'employment_unemployed']/combined_acs5.loc[:,'population']) * 100\n",
    "    # Calculating the total and percentage of populations working in tech-related fields\n",
    "    pop_data['Total Pop in Tech Fields'] = (\n",
    "                                            combined_acs5.loc[:,'employment_male_business_and_financial_operations_occupations'] +\n",
    "                                            combined_acs5.loc[:,'employment_male_computer_engineering_and_science_occupations'] +\n",
    "                                            combined_acs5.loc[:,'employment_male_computer_and_mathematical_occupations'] +\n",
    "                                            combined_acs5.loc[:,'employment_female_business_and_financial_operations_occupations'] +\n",
    "                                            combined_acs5.loc[:,'employment_female_computer_engineering_and_science_occupations'] +\n",
    "                                            combined_acs5.loc[:,'employment_female_computer_and_mathematical_occupations']\n",
    "                                        )\n",
    "    pop_data['Percent in Tech Fields'] = (pop_data.loc[:,'Total Pop in Tech Fields']/combined_acs5.loc[:,'population']) * 100\n",
    "    # Calculating the percentage of populations with a given education level\n",
    "    pop_data['Percent No Education'] = (combined_acs5.loc[:,'education_none']/combined_acs5.loc[:,'population']) * 100\n",
    "    pop_data['Percent High School'] = (combined_acs5.loc[:,'education_high_school']/combined_acs5.loc[:,'population']) * 100\n",
    "    pop_data['Percent GED'] = (combined_acs5.loc[:,'education_ged']/combined_acs5.loc[:,'population']) * 100\n",
    "    pop_data['Percent Associates'] = (combined_acs5.loc[:,'education_associates']/combined_acs5.loc[:,'population']) * 100\n",
    "    pop_data['Percent Bachelors'] = (combined_acs5.loc[:,'education_bachelors']/combined_acs5.loc[:,'population']) * 100\n",
    "    pop_data['Percent Masters'] = (combined_acs5.loc[:,'education_masters']/combined_acs5.loc[:,'population']) * 100\n",
    "    pop_data['Percent Professional Education'] = (combined_acs5.loc[:,'education_professional']/combined_acs5.loc[:,'population']) * 100\n",
    "    pop_data['Percent Doctorate'] = (combined_acs5.loc[:,'education_doctorate']/combined_acs5.loc[:,'population']) * 100\n",
    "\n",
    "# Confirming working DF populated correctly\n",
    "display(pop_data.head(2))\n",
    "display(pop_data.tail(2))"
   ]
  },
  {
   "cell_type": "markdown",
   "id": "5308e44e",
   "metadata": {},
   "source": [
    "As `Prophet` requires Datetime format for its predictions, the `Year` column needs to be assigned more details than available from the Census API data. Since the data represents a rolling 5-year average for the given year, ultimately the more granular date details (month, day, and timestamp) are irrelivent so long as they are consistent. To that end, the value for December 30th, just before noon, is assigned to all rows for their given years."
   ]
  },
  {
   "cell_type": "code",
   "execution_count": null,
   "id": "50239f28",
   "metadata": {},
   "outputs": [],
   "source": [
    "# Converting `Year` to Datetime format for future use with Prophet\n",
    "# (`YYYY-12-30 11:59:59` chosen for Datetime format since data only came with `YYYY`)\n",
    "pop_data['Year'] = pd.to_datetime({'year': pop_data['Year'],\n",
    "                                   'month': 12,\n",
    "                                   'day': 30,\n",
    "                                   'hour': 11,\n",
    "                                   'minute': 59,\n",
    "                                   'second': 59\n",
    "                                    })\n",
    "\n",
    "# Verifying applied correctly\n",
    "# Confirming working DF populated correctly\n",
    "display(pop_data.head(2))\n",
    "display(pop_data.tail(2))"
   ]
  },
  {
   "cell_type": "markdown",
   "id": "105e9156",
   "metadata": {},
   "source": [
    "### Initial Data Exploration\n",
    "\n",
    "Examining values and data types to prepare for more direct analysis and in preparation for further processing."
   ]
  },
  {
   "cell_type": "code",
   "execution_count": null,
   "id": "bdce3125",
   "metadata": {},
   "outputs": [],
   "source": [
    "# Confirming unique States\n",
    "pop_data['Name'].value_counts()"
   ]
  },
  {
   "cell_type": "code",
   "execution_count": null,
   "id": "23d0251a",
   "metadata": {},
   "outputs": [],
   "source": [
    "# Confirming data types for `pop_data`\n",
    "pop_data.dtypes"
   ]
  },
  {
   "cell_type": "markdown",
   "id": "8b21b510",
   "metadata": {},
   "source": [
    "### Slicing Data\n",
    "\n",
    "Preparing slices of data for use with Prophet. At this stage, it is unclear on what the final predictions will be made, so slices for each relevant component of the data are declared."
   ]
  },
  {
   "cell_type": "code",
   "execution_count": null,
   "id": "2da00127",
   "metadata": {},
   "outputs": [],
   "source": [
    "# Slicing data into working DFs for future use with Prophet\n",
    "# For total population\n",
    "slice_pop = pop_data[[\n",
    "                      'Name',\n",
    "                      'Year',\n",
    "                      'population'\n",
    "                    ]]\n",
    "\n",
    "# For total employed population\n",
    "slice_emp_tot = pop_data[[\n",
    "                          'Name',\n",
    "                          'Year',\n",
    "                          'employment_employed'\n",
    "                        ]]\n",
    "\n",
    "# For percentage of employed population\n",
    "slice_emp_pct = pop_data[[\n",
    "                          'Name',\n",
    "                          'Year',\n",
    "                          'Percent Employed'\n",
    "                        ]]\n",
    "\n",
    "# For total unemployed population\n",
    "slice_unemp_tot = pop_data[[\n",
    "                            'Name',\n",
    "                            'Year',\n",
    "                            'employment_unemployed'\n",
    "                          ]]\n",
    "\n",
    "# For percentage of unemployed population\n",
    "slice_unemp_pct = pop_data[[\n",
    "                            'Name',\n",
    "                            'Year',\n",
    "                            'Percent Unemployed'\n",
    "                          ]]\n",
    "\n",
    "# For total with no education\n",
    "slice_edu_non_tot = pop_data[[\n",
    "                              'Name',\n",
    "                              'Year',\n",
    "                              'education_none'\n",
    "                            ]]\n",
    "\n",
    "# For percentage with no education\n",
    "slice_edu_non_pct = pop_data[[\n",
    "                              'Name',\n",
    "                              'Year',\n",
    "                              'Percent No Education'\n",
    "                            ]]\n",
    "\n",
    "# For total with high school diploma\n",
    "slice_edu_hs_tot = pop_data[[\n",
    "                             'Name',\n",
    "                             'Year',\n",
    "                             'education_high_school'\n",
    "                           ]]\n",
    "\n",
    "# For percentage with high school diploma\n",
    "slice_edu_hs_pct = pop_data[[\n",
    "                             'Name',\n",
    "                             'Year',\n",
    "                             'Percent High School'\n",
    "                           ]]\n",
    "\n",
    "# For total with GED\n",
    "slice_edu_ged_tot = pop_data[[\n",
    "                              'Name',\n",
    "                              'Year',\n",
    "                              'education_ged'\n",
    "                            ]]\n",
    "\n",
    "# For percentage with GED\n",
    "slice_edu_ged_pct = pop_data[[\n",
    "                              'Name',\n",
    "                              'Year',\n",
    "                              'Percent GED'\n",
    "                            ]]\n",
    "\n",
    "# For total with associates degree\n",
    "slice_edu_asc_tot = pop_data[[\n",
    "                              'Name',\n",
    "                              'Year',\n",
    "                              'education_associates'\n",
    "                            ]]\n",
    "\n",
    "# For percentage with associates degree\n",
    "slice_edu_asc_pct = pop_data[[\n",
    "                              'Name',\n",
    "                              'Year',\n",
    "                              'Percent Associates'\n",
    "                            ]]\n",
    "\n",
    "# For total with bachelors degree\n",
    "slice_edu_bch_tot = pop_data[[\n",
    "                              'Name',\n",
    "                              'Year',\n",
    "                              'education_bachelors'\n",
    "                            ]]\n",
    "\n",
    "# For percentage with bachelors degree\n",
    "slice_edu_bch_pct = pop_data[[\n",
    "                              'Name',\n",
    "                              'Year',\n",
    "                              'Percent Bachelors'\n",
    "                            ]]\n",
    "\n",
    "# For total with masters degree\n",
    "slice_edu_mst_tot = pop_data[[\n",
    "                              'Name',\n",
    "                              'Year',\n",
    "                              'education_masters'\n",
    "                            ]]\n",
    "\n",
    "# For percentage with masters degree\n",
    "slice_edu_mst_pct = pop_data[[\n",
    "                              'Name',\n",
    "                              'Year',\n",
    "                              'Percent Masters'\n",
    "                            ]]\n",
    "\n",
    "# For total with professional education\n",
    "slice_edu_prf_tot = pop_data[[\n",
    "                              'Name',\n",
    "                              'Year',\n",
    "                              'education_professional'\n",
    "                            ]]\n",
    "\n",
    "# For percentage with professional education \n",
    "slice_edu_prf_pct = pop_data[[\n",
    "                              'Name',\n",
    "                              'Year',\n",
    "                              'Percent Professional Education'\n",
    "                            ]]\n",
    "\n",
    "# For total with doctorate\n",
    "slice_edu_doc_tot = pop_data[[\n",
    "                              'Name',\n",
    "                              'Year',\n",
    "                              'education_doctorate'\n",
    "                            ]]\n",
    "\n",
    "# For percentage with doctorate \n",
    "slice_edu_doc_pct = pop_data[[\n",
    "                              'Name',\n",
    "                              'Year',\n",
    "                              'Percent Doctorate'\n",
    "                            ]]\n",
    "\n",
    "# For total working in tech-related fields\n",
    "slice_tech_tot = pop_data[[\n",
    "                           'Name',\n",
    "                           'Year',\n",
    "                           'Total Pop in Tech Fields'\n",
    "                         ]]\n",
    "\n",
    "# For percentage working in tech-related fields\n",
    "slice_tech_pct = pop_data[[\n",
    "                           'Name',\n",
    "                           'Year',\n",
    "                           'Percent in Tech Fields'\n",
    "                         ]]"
   ]
  },
  {
   "cell_type": "markdown",
   "id": "e90664e5",
   "metadata": {},
   "source": [
    "### National Trends\n",
    "\n",
    "Applying slices to a National scale to explore trends and correlations. Since all states are represented in each given year, grouping by `Year` provides the national averages when aggregated by `.mean()`."
   ]
  },
  {
   "cell_type": "code",
   "execution_count": null,
   "id": "746e64f6",
   "metadata": {},
   "outputs": [],
   "source": [
    "# Grouping data from slices for National analysis\n",
    "\n",
    "# Grouping percentatge of unemployed population by year\n",
    "national_unemp = slice_unemp_pct[['Year', 'Percent Unemployed']].groupby('Year').mean()\n",
    "\n",
    "# Resetting the index for the grouped slice\n",
    "national_unemp.reset_index(inplace=True)\n",
    "\n",
    "# Renaming columns for use with Prophet\n",
    "national_unemp.rename(columns={\n",
    "                        'Year': 'ds',\n",
    "                        'Percent Unemployed': 'y'\n",
    "                    }, inplace=True)\n",
    "\n",
    "\n",
    "# Grouping percentatge of population employed in tech-related fields\n",
    "national_tech = slice_tech_pct[['Year', 'Percent in Tech Fields']].groupby('Year').mean()\n",
    "\n",
    "# Resetting the index for the grouped slice\n",
    "national_tech.reset_index(inplace=True)\n",
    "\n",
    "# Renaming columns for use with Prophet\n",
    "national_tech.rename(columns={\n",
    "                        'Year': 'ds',\n",
    "                        'Percent in Tech Fields': 'y'\n",
    "                    }, inplace=True)\n",
    "\n",
    "\n",
    "# Grouping percentatge of population with no education by year\n",
    "national_edu_non = slice_edu_non_pct[['Year', 'Percent No Education']].groupby('Year').mean()\n",
    "\n",
    "# Resetting the index for the grouped slice\n",
    "national_edu_non.reset_index(inplace=True)\n",
    "\n",
    "# Renaming columns for use with Prophet\n",
    "national_edu_non.rename(columns={\n",
    "                            'Year': 'ds',\n",
    "                            'Percent No Education': 'y'\n",
    "                        }, inplace=True)\n",
    "\n",
    "\n",
    "# Grouping percentatge of population with a high school education by year\n",
    "national_edu_hs = slice_edu_hs_pct[['Year', 'Percent High School']].groupby('Year').mean()\n",
    "\n",
    "# Resetting the index for the grouped slice\n",
    "national_edu_hs.reset_index(inplace=True)\n",
    "\n",
    "# Renaming columns for use with Prophet\n",
    "national_edu_hs.rename(columns={\n",
    "                            'Year': 'ds',\n",
    "                            'Percent High School': 'y'\n",
    "                        }, inplace=True)\n",
    "\n",
    "\n",
    "# Grouping percentatge of population with a GED by year\n",
    "national_edu_ged = slice_edu_ged_pct[['Year', 'Percent GED']].groupby('Year').mean()\n",
    "\n",
    "# Resetting the index for the grouped slice\n",
    "national_edu_ged.reset_index(inplace=True)\n",
    "\n",
    "# Renaming columns for use with Prophet\n",
    "national_edu_ged.rename(columns={\n",
    "                            'Year': 'ds',\n",
    "                            'Percent GED': 'y'\n",
    "                        }, inplace=True)\n",
    "\n",
    "\n",
    "# Grouping percentatge of population with an associates degree by year\n",
    "national_edu_asc = slice_edu_asc_pct[['Year', 'Percent Associates']].groupby('Year').mean()\n",
    "\n",
    "# Resetting the index for the grouped slice\n",
    "national_edu_asc.reset_index(inplace=True)\n",
    "\n",
    "# Renaming columns for use with Prophet\n",
    "national_edu_asc.rename(columns={\n",
    "                            'Year': 'ds',\n",
    "                            'Percent Associates': 'y'\n",
    "                        }, inplace=True)\n",
    "\n",
    "\n",
    "# Grouping percentatge of population with a bachelors degree by year\n",
    "national_edu_bch = slice_edu_bch_pct[['Year', 'Percent Bachelors']].groupby('Year').mean()\n",
    "\n",
    "# Resetting the index for the grouped slice\n",
    "national_edu_bch.reset_index(inplace=True)\n",
    "\n",
    "# Renaming columns for use with Prophet\n",
    "national_edu_bch.rename(columns={\n",
    "                            'Year': 'ds',\n",
    "                            'Percent Bachelors': 'y'\n",
    "                        }, inplace=True)\n",
    "\n",
    "\n",
    "# Grouping percentatge of population with a professional education by year\n",
    "national_edu_prf = slice_edu_prf_pct[['Year', 'Percent Professional Education']].groupby('Year').mean()\n",
    "\n",
    "# Resetting the index for the grouped slice\n",
    "national_edu_prf.reset_index(inplace=True)\n",
    "\n",
    "# Renaming columns for use with Prophet\n",
    "national_edu_prf.rename(columns={\n",
    "                            'Year': 'ds',\n",
    "                            'Percent Professional Education': 'y'\n",
    "                        }, inplace=True)"
   ]
  },
  {
   "cell_type": "markdown",
   "id": "bb06bb3d",
   "metadata": {},
   "source": [
    "### Exploring National Trends\n",
    "\n",
    "Plotting out the 10-year trends on the available education levels begins to paint a picture, especially when framed by the trends in the percentage of the population working in tech-related fields.\n",
    "\n",
    "**NOTE:** New slices are prepared as `Name` is unnecessary when data is grouped by `Year`."
   ]
  },
  {
   "cell_type": "code",
   "execution_count": null,
   "id": "5bdb37eb",
   "metadata": {},
   "outputs": [],
   "source": [
    "# Slicing for the percent of the population \n",
    "grph_no_edu = pop_data[[\n",
    "                        'Year',\n",
    "                        'Percent No Education'\n",
    "                      ]]\n",
    "\n",
    "# Grouping by `Year` for national averages\n",
    "grph_no_edu = grph_no_edu.groupby('Year').mean()\n",
    "\n",
    "# Quick plotting of data\n",
    "grph_no_edu.plot()"
   ]
  },
  {
   "cell_type": "markdown",
   "id": "c1898a7c",
   "metadata": {},
   "source": [
    "The sudden increase in a percentage of the population not receiving a traditional education before even completing high school is likely a result of Covid. Many younger students were hit the hardest by the shift to remote learning, which might cause many families to pursue alternative forms of education for their children."
   ]
  },
  {
   "cell_type": "code",
   "execution_count": null,
   "id": "ad5ce079",
   "metadata": {},
   "outputs": [],
   "source": [
    "# Slicing for the percent of the population with a GED\n",
    "grph_ge_edu = pop_data[[\n",
    "                        'Year',\n",
    "                        'Percent GED'\n",
    "                      ]]\n",
    "\n",
    "# Grouping by `Year` for national averages\n",
    "grph_ge_edu = grph_ge_edu.groupby('Year').mean()\n",
    "\n",
    "# Quick plotting of data\n",
    "grph_ge_edu.plot()"
   ]
  },
  {
   "cell_type": "markdown",
   "id": "266bb840",
   "metadata": {},
   "source": [
    "Another rise in the already high levels of the population with a GED over a high school diploma correlates with that same Covid timing. Likely still indicative of a larger percent of the population pursuing alternative forms of education following the remote learning trends forced onto the system by the pandemic."
   ]
  },
  {
   "cell_type": "code",
   "execution_count": null,
   "id": "f7a4a9f9",
   "metadata": {},
   "outputs": [],
   "source": [
    "# Slicing for the percent of the population with a high school education\n",
    "grph_hs_edu = pop_data[[\n",
    "                        'Year',\n",
    "                        'Percent High School'\n",
    "                      ]]\n",
    "\n",
    "# Grouping by `Year` for national averages\n",
    "grph_hs_edu = grph_hs_edu.groupby('Year').mean()\n",
    "\n",
    "# Quick plotting of data\n",
    "grph_hs_edu.plot()"
   ]
  },
  {
   "cell_type": "markdown",
   "id": "cfe1b77c",
   "metadata": {},
   "source": [
    "Interesting how this metric was on the decline even before Covid, and slightly accelerated after. Still, given the preceding graph, it is likely that much of the population that eschews a high school education is pursuing that same qualification through a GED, or some other means such as a profressional education."
   ]
  },
  {
   "cell_type": "code",
   "execution_count": null,
   "id": "cae858c6",
   "metadata": {},
   "outputs": [],
   "source": [
    "# Slicing for the percent of the population with an associates degree\n",
    "grph_as_edu = pop_data[[\n",
    "                        'Year',\n",
    "                        'Percent Associates'\n",
    "                      ]]\n",
    "\n",
    "# Grouping by `Year` for national averages\n",
    "grph_as_edu = grph_as_edu.groupby('Year').mean()\n",
    "\n",
    "# Quick plotting of data\n",
    "grph_as_edu.plot()"
   ]
  },
  {
   "cell_type": "code",
   "execution_count": null,
   "id": "608331df",
   "metadata": {},
   "outputs": [],
   "source": [
    "# Slicing for the percent of the population with a bachelors degree\n",
    "grph_bd_edu = pop_data[[\n",
    "                        'Year',\n",
    "                        'Percent Bachelors'\n",
    "                      ]]\n",
    "\n",
    "# Grouping by `Year` for national averages\n",
    "grph_bd_edu = grph_bd_edu.groupby('Year').mean()\n",
    "\n",
    "# Quick plotting of data\n",
    "grph_bd_edu.plot()"
   ]
  },
  {
   "cell_type": "code",
   "execution_count": null,
   "id": "3194ec6d",
   "metadata": {},
   "outputs": [],
   "source": [
    "# Slicing for the percent of the population with a professinal education\n",
    "grph_pr_edu = pop_data[[\n",
    "                        'Year',\n",
    "                        'Percent Professional Education'\n",
    "                      ]]\n",
    "\n",
    "# Grouping by `Year` for national averages\n",
    "grph_pr_edu = grph_pr_edu.groupby('Year').mean()\n",
    "\n",
    "# Quick plotting of data\n",
    "grph_pr_edu.plot()"
   ]
  },
  {
   "cell_type": "markdown",
   "id": "2e952eaf",
   "metadata": {},
   "source": [
    "While telling on its own, the steady rise in professional education (programs like this boot camp, on-the-job training, apprenticeships, etc) does begin putting into perspective a potential national shift in priorities. While earlier graphs show a departure from the emphasis put on a high school education in favor of a GED, this, too, adds credence to the possibility of educations outside the realm of strict academia being the trend of the future."
   ]
  },
  {
   "cell_type": "code",
   "execution_count": null,
   "id": "a241126b",
   "metadata": {},
   "outputs": [],
   "source": [
    "# Slicing for the percent of the population working in tech-related fields\n",
    "grph_tj_pct = pop_data[[\n",
    "                        'Year',\n",
    "                        'Percent in Tech Fields'\n",
    "                      ]]\n",
    "\n",
    "# Grouping by `Year` for national averages\n",
    "grph_tj_pct = grph_tj_pct.groupby('Year').mean()\n",
    "\n",
    "# Quick plotting of data\n",
    "grph_tj_pct.plot()"
   ]
  },
  {
   "cell_type": "markdown",
   "id": "00288328",
   "metadata": {},
   "source": [
    "Perhaps even more telling, an even sharper rise in the prevelance of tech-related jobs seems to align with the same trends in profressional education. While not a complete picture, given that the tech fields have a larger relationship to the growth in AI and ML technologies and positions, it would be easy to see how the two (the percentage of people working in tech-related jobs and the percentage of people with a professional education) could be directly related. Much as we enrolled in this program to shift into the ML sector, many could be pursuing similar programs to shift into this or other sectors within the fields of technology."
   ]
  },
  {
   "cell_type": "code",
   "execution_count": null,
   "id": "72aaa5f1",
   "metadata": {},
   "outputs": [],
   "source": [
    "# Slicing for the percent of the population who are unemployed\n",
    "grph_un_pct = pop_data[[\n",
    "                        'Year',\n",
    "                        'Percent Unemployed'\n",
    "                      ]]\n",
    "\n",
    "# Grouping by `Year` for national averages\n",
    "grph_un_pct = grph_un_pct.groupby('Year').mean()\n",
    "\n",
    "# Quick plotting of data\n",
    "grph_un_pct.plot()"
   ]
  },
  {
   "cell_type": "markdown",
   "id": "5aec0fa2",
   "metadata": {},
   "source": [
    "The national unemployment numbers have been on a steady decline over the previous decade, and seemed to have relatively stabalized in the years following Covid. Again, while not a complete picture, it is interesting to see how similarly the unemployment rates have decreased in comparrison to the rise in tech-related jobs. It is a possibility that the expansion of tech sectors *and* the increases in available profressional educations could be directly impacting the job market in such a way to help alleviate unemployment."
   ]
  },
  {
   "cell_type": "code",
   "execution_count": null,
   "id": "30cdaae4",
   "metadata": {},
   "outputs": [],
   "source": [
    "# Slicing for the percent of the population working in tech-related fields\n",
    "# and with a profressinal education\n",
    "grph_comp_tj_pr = pop_data[[\n",
    "                            'Year',\n",
    "                            'Percent in Tech Fields',\n",
    "                            'Percent Professional Education'\n",
    "                          ]]\n",
    "\n",
    "# Grouping by `Year` for national averages\n",
    "grph_comp_tj_pr = grph_comp_tj_pr.groupby('Year').mean()\n",
    "\n",
    "# Quick plotting of data\n",
    "grph_comp_tj_pr.plot(subplots=True)"
   ]
  },
  {
   "cell_type": "markdown",
   "id": "527f3b47",
   "metadata": {},
   "source": [
    "When more directly comparing the trends in tech-related jobs and professional education rates it becomes clearer how closely the two metrics seem to grow. As the two subplots are on slightly different scales, it may appear that the two may have a more positive correlation that they might."
   ]
  },
  {
   "cell_type": "code",
   "execution_count": null,
   "id": "906a3409",
   "metadata": {},
   "outputs": [],
   "source": [
    "# Calculating the minimum and maximum values for `Percent Professional Education`\n",
    "min_tech = grph_comp_tj_pr['Percent in Tech Fields'].min()\n",
    "max_tech = grph_comp_tj_pr['Percent in Tech Fields'].max()\n",
    "\n",
    "# Calculating the difference\n",
    "tech_chng = max_tech - min_tech\n",
    "\n",
    "# Calculating the minimum and maximum values for `Percent in Tech Fields`\n",
    "min_edup = grph_comp_tj_pr['Percent Professional Education'].min()\n",
    "max_edup = grph_comp_tj_pr['Percent Professional Education'].max()\n",
    "\n",
    "# Calculating the difference\n",
    "edup_chng = max_edup - min_edup\n",
    "\n",
    "# Printing the results\n",
    "print(f'The lowest percentage of people working in tech related fields was: {round(min_tech, 2)}%')\n",
    "print(f'The highest percentage of people working in tech related fields was: {round(max_tech, 2)}%')\n",
    "print(f'This was a growth of: {round(tech_chng, 2)}%\\n')\n",
    "print(f'The lowest percentage of people with a profressional education was: {round(min_edup, 2)}%')\n",
    "print(f'The highest percentage of people with a profressional education was: {round(max_edup, 2)}%')\n",
    "print(f'This was a growth of: {round(edup_chng, 2)}%\\n')"
   ]
  },
  {
   "cell_type": "markdown",
   "id": "0d892f6e",
   "metadata": {},
   "source": [
    "Clearly not as closely related as first impressions might show, there is still definitive growth in both areas. Further analysis on the correlation may be needed, but the conlcusion that an increase in the availablity and prevelance of tech-related jobs and the growing trends in pursuing a professinal education are inherently connected may be a safe one to draw."
   ]
  },
  {
   "cell_type": "code",
   "execution_count": null,
   "id": "101278e1",
   "metadata": {},
   "outputs": [],
   "source": [
    "# Slicing for the percent of the population working in tech-related fields\n",
    "# and the percent of the population who are unemployed\n",
    "grph_comp_tj_un = pop_data[[\n",
    "                            'Year',\n",
    "                            'Percent in Tech Fields',\n",
    "                            'Percent Unemployed'\n",
    "                          ]]\n",
    "\n",
    "# Grouping by `Year` for national averages\n",
    "grph_comp_tj_un = grph_comp_tj_un.groupby('Year').mean()\n",
    "\n",
    "# Quick plotting of data\n",
    "grph_comp_tj_un.plot(subplots=True)"
   ]
  },
  {
   "cell_type": "markdown",
   "id": "4100566f",
   "metadata": {},
   "source": [
    "Similarly as before, a slight difference of scale in these subplots warrants further examination."
   ]
  },
  {
   "cell_type": "code",
   "execution_count": null,
   "id": "ebeb94e1",
   "metadata": {},
   "outputs": [],
   "source": [
    "# Calculating the minimum and maximum values for `Percent Professional Education`\n",
    "min_tech = grph_comp_tj_un['Percent in Tech Fields'].min()\n",
    "max_tech = grph_comp_tj_un['Percent in Tech Fields'].max()\n",
    "\n",
    "# Calculating the difference\n",
    "tech_chng = max_tech - min_tech\n",
    "\n",
    "# Calculating the minimum and maximum values for `Percent in Tech Fields`\n",
    "min_unem = grph_comp_tj_un['Percent Unemployed'].min()\n",
    "max_unem = grph_comp_tj_un['Percent Unemployed'].max()\n",
    "\n",
    "# Calculating the difference\n",
    "unem_chng = -(max_unem - min_unem)\n",
    "\n",
    "# Printing the results\n",
    "print(f'The lowest percentage of people working in tech related fields was: {round(min_tech, 2)}%')\n",
    "print(f'The highest percentage of people working in tech related fields was: {round(max_tech, 2)}%')\n",
    "print(f'This was a growth of: {round(tech_chng, 2)}%\\n')\n",
    "print(f'The lowest percentage of people who were unemployed was: {round(min_unem, 2)}%')\n",
    "print(f'The highest percentage of people who were unemployed was: {round(max_unem, 2)}%')\n",
    "print(f'This was a decrease of: {round(unem_chng, 2)}%\\n')"
   ]
  },
  {
   "cell_type": "markdown",
   "id": "5f418b9e",
   "metadata": {},
   "source": [
    "Unemployment is a largely complicated metric to examine in any capacity, let alone a simple comparrison to a partially related trend. Many more factors play into the national unemployment numbers, so it would be wholly unfair to say an increase in tech-related jobs is solving unemployment issues across the nation. However, given how closely the trends have grown and decreased, it would be a safe assumption to make that a larger number of available technical job opporunities ***does*** contribute to part of the overall solution."
   ]
  },
  {
   "cell_type": "code",
   "execution_count": null,
   "id": "9e7956a6",
   "metadata": {},
   "outputs": [],
   "source": [
    "grph_comp_4way = pop_data[[\n",
    "                            'Year',\n",
    "                            'Percent in Tech Fields',\n",
    "                            'Percent Professional Education',\n",
    "                            'Percent Unemployed',\n",
    "                            'Percent High School'\n",
    "                          ]]\n",
    "\n",
    "grph_comp_4way = grph_comp_4way.groupby('Year').mean()\n",
    "\n",
    "grph_comp_4way.plot(subplots=True)"
   ]
  },
  {
   "cell_type": "markdown",
   "id": "4dad5cd1",
   "metadata": {},
   "source": [
    "Similar to the previous two subplots, the addition of a decrease in the percentage of the population with a high school eductaion similarly speaks as an incomplete section of a larger picture. While the trends appear similar at large, there are many more factors at play than the available dataset allows for deeper examination."
   ]
  },
  {
   "cell_type": "markdown",
   "id": "fb653e81",
   "metadata": {},
   "source": [
    "### Preparing Visualiztions\n",
    "\n",
    "Given some of the findings above, the following visualizations on national trends are prepared for the final presentation"
   ]
  },
  {
   "cell_type": "code",
   "execution_count": null,
   "id": "e3197a31",
   "metadata": {},
   "outputs": [],
   "source": [
    "# Create a figure and subplots\n",
    "fig, axes = plt.subplots(nrows=2, ncols=1, figsize=(8, 6))\n",
    "\n",
    "# Plot 'Percent in Tech Fields'\n",
    "axes[0].plot(grph_comp_tj_pr.index, grph_comp_tj_pr['Percent in Tech Fields'], label='Working in Tech Fields', color='blue')\n",
    "axes[0].set_xlabel('Year')\n",
    "axes[0].set_ylabel('Percentage of US Population')\n",
    "axes[0].legend()\n",
    "\n",
    "# Plot 'Percent Professional Education'\n",
    "axes[1].plot(grph_comp_tj_pr.index, grph_comp_tj_pr['Percent Professional Education'], label='With a Professional Education', color='red')\n",
    "axes[1].set_xlabel('Year')\n",
    "axes[1].set_ylabel('Percentage of US Population')\n",
    "axes[1].legend()\n",
    "\n",
    "# Adjust layout and save the figure\n",
    "plt.tight_layout()\n",
    "#plt.savefig('comp_tech_v_profedu_subplots.png', dpi=300) #Commented out to prevent redundant files\n",
    "plt.show()\n"
   ]
  },
  {
   "cell_type": "code",
   "execution_count": null,
   "id": "6097900e",
   "metadata": {},
   "outputs": [],
   "source": [
    "# Creating a figure and subplots\n",
    "fig, axes = plt.subplots(nrows=2, ncols=1, figsize=(8, 6))\n",
    "\n",
    "# Plotting 'Percent in Tech Fields'\n",
    "axes[0].plot(grph_comp_tj_un.index, grph_comp_tj_un['Percent in Tech Fields'], label='Working in Tech Fields', color='blue')\n",
    "axes[0].set_xlabel('Year')\n",
    "axes[0].set_ylabel('Percentage of US Population')\n",
    "axes[0].legend()\n",
    "\n",
    "# Plotting 'Percent Unemployed'\n",
    "axes[1].plot(grph_comp_tj_un.index, grph_comp_tj_un['Percent Unemployed'], label='Who Are Unemployed', color='orange')\n",
    "axes[1].set_xlabel('Year')\n",
    "axes[1].set_ylabel('Percentage of US Population')\n",
    "axes[1].legend()\n",
    "\n",
    "# Adjusting layout and saving the figure\n",
    "plt.tight_layout()\n",
    "#plt.savefig('comp_tech_v_unemp_subplots.png', dpi=300) #Commented out to prevent redundant files\n",
    "plt.show()"
   ]
  },
  {
   "cell_type": "markdown",
   "id": "2e036fcb",
   "metadata": {},
   "source": [
    "### Correlations\n",
    "\n",
    "With the above visualizations prepared, a closer look at the correlations among the various levels of education, unemployment rates, and the growth in tech-related jobs seems justified."
   ]
  },
  {
   "cell_type": "code",
   "execution_count": null,
   "id": "5f7a1023",
   "metadata": {},
   "outputs": [],
   "source": [
    "# Slicing relevant informent from `pop_data` and grouping by `Year` to give\n",
    "# the national averages by year\n",
    "national_avg_pct = pop_data[[\n",
    "                            'Year',\n",
    "                            'Percent Unemployed',\n",
    "                            'Percent in Tech Fields',\n",
    "                            'Percent No Education',\n",
    "                            'Percent High School',\n",
    "                            'Percent GED',\n",
    "                            'Percent Associates',\n",
    "                            'Percent Bachelors',\n",
    "                            'Percent Professional Education'\n",
    "                           ]].groupby('Year').mean()"
   ]
  },
  {
   "cell_type": "code",
   "execution_count": null,
   "id": "ef3260ee",
   "metadata": {},
   "outputs": [],
   "source": [
    "# Calculating the correlations among the selected columns\n",
    "national_avg_pct[[\n",
    "                  'Percent in Tech Fields',\n",
    "                  'Percent Unemployed',\n",
    "                  'Percent No Education',\n",
    "                  'Percent High School',\n",
    "                  'Percent GED',\n",
    "                  'Percent Professional Education'\n",
    "                ]].corr()"
   ]
  },
  {
   "cell_type": "markdown",
   "id": "0fc82700",
   "metadata": {},
   "source": [
    "* Percent in Tech Fields and Percent Unemployed:\n",
    "    * Again, not a complete story - seeing as many more variables affect unemployment rates - but such a strong relationship suggests that the trends might continue to behave similarly\n",
    "* Percent in Tech Fields and Percent No Education:\n",
    "    * An interesting closeness, escpecially with the context that the correlation between tech-related jobs and percentage of the population with a GED are *not* as close (discussed below)\n",
    "* Percent in Tech Fields and Percent Percent High School:\n",
    "    * Even closer to a 1:-1 than as seen with unemployment rates, the trends might suggest that those moving away from traditional academia may be looking towards the tech sectors for future employment\n",
    "* Percent in Tech Fields and Percent Percent GED:\n",
    "    * One might expect this to be an inverse of the previous correlation, but the connection between receiving a GED and working in the tech field seems to be significantly lower than with other metrics being explored here\n",
    "    * In point of fact, among the selected columns, the strongest correlation with percentage of the population with a GED seems to be the percent of unemployed people with another near 1:-1 relationshio\n",
    "* Percent in Tech Fields and Percent Percent Professional Education:\n",
    "    * Perhaps the most telling of all is this almost perfectly 1:1 relationship, suggesting an almost difinitive connection between alternative forms of education and the growth of tech-related jobs in our country\n",
    "    * While also not a complete picture, this trend validates the importance of programs such as this boot camp in terms of developing a stronger tech workforce\n",
    "\n"
   ]
  },
  {
   "cell_type": "markdown",
   "id": "aa9577b6",
   "metadata": {},
   "source": [
    "### Predictions\n",
    "\n",
    "Using the slices prepared earlier, multiple sets of data are passed through Prophet to give a 5-year prediction based on the US Census data."
   ]
  },
  {
   "cell_type": "code",
   "execution_count": null,
   "id": "fa2187e3",
   "metadata": {},
   "outputs": [],
   "source": [
    "# Declaring an instance for Prophet for `Percent in Tech Fields`\n",
    "m_n_t = Prophet()"
   ]
  },
  {
   "cell_type": "code",
   "execution_count": null,
   "id": "7bb9f249",
   "metadata": {},
   "outputs": [],
   "source": [
    "# Fitting the model to the appropriately sliced DataFrame\n",
    "m_n_t.fit(national_tech)"
   ]
  },
  {
   "cell_type": "code",
   "execution_count": null,
   "id": "028198f5",
   "metadata": {},
   "outputs": [],
   "source": [
    "# Creating rows for 5 years' worth of predictions\n",
    "n_tech_future = m_n_t.make_future_dataframe(periods=5, freq='YE')"
   ]
  },
  {
   "cell_type": "code",
   "execution_count": null,
   "id": "7f1732b7",
   "metadata": {},
   "outputs": [],
   "source": [
    "# Running predictions\n",
    "n_tech_forecast = m_n_t.predict(n_tech_future)"
   ]
  },
  {
   "cell_type": "code",
   "execution_count": null,
   "id": "5e512640",
   "metadata": {},
   "outputs": [],
   "source": [
    "# Plotting the results\n",
    "m_n_t.plot(n_tech_forecast)"
   ]
  },
  {
   "cell_type": "markdown",
   "id": "2a872aba",
   "metadata": {},
   "source": [
    "Prophet paints a clear image of moderate to near-exponential copntinued growth in the tech sectors."
   ]
  },
  {
   "cell_type": "code",
   "execution_count": null,
   "id": "d53549b2",
   "metadata": {},
   "outputs": [],
   "source": [
    "# Declaring an instance for Prophet for `Percent Professional Education`\n",
    "m_n_e_p = Prophet()"
   ]
  },
  {
   "cell_type": "code",
   "execution_count": null,
   "id": "ff7e26f4",
   "metadata": {},
   "outputs": [],
   "source": [
    "# Fitting the model to the appropriately sliced DataFrame\n",
    "m_n_e_p.fit(national_edu_prf)"
   ]
  },
  {
   "cell_type": "code",
   "execution_count": null,
   "id": "b6061674",
   "metadata": {},
   "outputs": [],
   "source": [
    "# Creating rows for 5 years' worth of predictions\n",
    "n_prf_future = m_n_e_p.make_future_dataframe(periods=5, freq='YE')"
   ]
  },
  {
   "cell_type": "code",
   "execution_count": null,
   "id": "d5dc4abb",
   "metadata": {},
   "outputs": [],
   "source": [
    "# Running predictions\n",
    "n_prf_forecast = m_n_e_p.predict(n_prf_future)"
   ]
  },
  {
   "cell_type": "code",
   "execution_count": null,
   "id": "19a97b17",
   "metadata": {},
   "outputs": [],
   "source": [
    "# Plotting the results\n",
    "m_n_e_p.plot(n_prf_forecast)"
   ]
  },
  {
   "cell_type": "markdown",
   "id": "eb18c27e",
   "metadata": {},
   "source": [
    "Similarly, Prophet seems to predict overall growth in the trends for professional education that - at a glance - nearly mirrors the projections for the tech-related jobs as shown above."
   ]
  },
  {
   "cell_type": "code",
   "execution_count": null,
   "id": "b422e29c",
   "metadata": {},
   "outputs": [],
   "source": [
    "# Declaring an instance for Prophet for `Percent Associates`\n",
    "m_n_e_a = Prophet()"
   ]
  },
  {
   "cell_type": "code",
   "execution_count": null,
   "id": "5250a483",
   "metadata": {},
   "outputs": [],
   "source": [
    "# Fitting the model to the appropriately sliced DataFrame\n",
    "m_n_e_a.fit(national_edu_asc)"
   ]
  },
  {
   "cell_type": "code",
   "execution_count": null,
   "id": "a314a801",
   "metadata": {},
   "outputs": [],
   "source": [
    "# Creating rows for 5 years' worth of predictions\n",
    "n_asc_future = m_n_e_a.make_future_dataframe(periods=5, freq='YE')"
   ]
  },
  {
   "cell_type": "code",
   "execution_count": null,
   "id": "8ea2660b",
   "metadata": {},
   "outputs": [],
   "source": [
    "# Running predictions\n",
    "n_asc_forecast = m_n_e_a.predict(n_asc_future)"
   ]
  },
  {
   "cell_type": "code",
   "execution_count": null,
   "id": "8f04eb33",
   "metadata": {},
   "outputs": [],
   "source": [
    "# Plotting the results\n",
    "m_n_e_a.plot(n_asc_forecast)"
   ]
  },
  {
   "cell_type": "code",
   "execution_count": null,
   "id": "ccfd857d",
   "metadata": {},
   "outputs": [],
   "source": [
    "# Declaring an instance for Prophet for `Percent High School`\n",
    "m_n_e_h = Prophet()"
   ]
  },
  {
   "cell_type": "code",
   "execution_count": null,
   "id": "ef1092d7",
   "metadata": {},
   "outputs": [],
   "source": [
    "# Fitting the model to the appropriately sliced DataFrame\n",
    "m_n_e_h.fit(national_edu_hs)"
   ]
  },
  {
   "cell_type": "code",
   "execution_count": null,
   "id": "8aae893b",
   "metadata": {},
   "outputs": [],
   "source": [
    "# Creating rows for 5 years' worth of predictions\n",
    "n_hs_future = m_n_e_h.make_future_dataframe(periods=5, freq='YE')"
   ]
  },
  {
   "cell_type": "code",
   "execution_count": null,
   "id": "febf8fe8",
   "metadata": {},
   "outputs": [],
   "source": [
    "# Running predictions\n",
    "n_hs_forecast = m_n_e_h.predict(n_hs_future)"
   ]
  },
  {
   "cell_type": "code",
   "execution_count": null,
   "id": "6ebcfedd",
   "metadata": {},
   "outputs": [],
   "source": [
    "# Plotting the results\n",
    "m_n_e_h.plot(n_hs_forecast)"
   ]
  },
  {
   "cell_type": "markdown",
   "id": "632853d9",
   "metadata": {},
   "source": [
    "Unsure as to why such drastic spikes came from the predictive model. This could be due to using a rolling 5-year average, meaning alternative, cleaner data may be required for deeper analysis."
   ]
  },
  {
   "cell_type": "code",
   "execution_count": null,
   "id": "c78568e5",
   "metadata": {},
   "outputs": [],
   "source": [
    "# Declaring an instance for Prophet for `Percent GED`\n",
    "m_n_e_g = Prophet()"
   ]
  },
  {
   "cell_type": "code",
   "execution_count": null,
   "id": "decec6e4",
   "metadata": {},
   "outputs": [],
   "source": [
    "# Fitting the model to the appropriately sliced DataFrame\n",
    "m_n_e_g.fit(national_edu_ged)"
   ]
  },
  {
   "cell_type": "code",
   "execution_count": null,
   "id": "6bd7b3f1",
   "metadata": {},
   "outputs": [],
   "source": [
    "# Creating rows for 5 years' worth of predictions\n",
    "n_ged_future = m_n_e_g.make_future_dataframe(periods=5, freq='YE')"
   ]
  },
  {
   "cell_type": "code",
   "execution_count": null,
   "id": "a513cb4c",
   "metadata": {},
   "outputs": [],
   "source": [
    "# Running predictions\n",
    "n_ged_forecast = m_n_e_g.predict(n_ged_future)"
   ]
  },
  {
   "cell_type": "code",
   "execution_count": null,
   "id": "7bf0d9d3",
   "metadata": {},
   "outputs": [],
   "source": [
    "# Plotting the results\n",
    "m_n_e_g.plot(n_ged_forecast)"
   ]
  },
  {
   "cell_type": "markdown",
   "id": "ca292c44",
   "metadata": {},
   "source": [
    "Same as with `Percent High School`, the spikes in this model indicate alternative data might be needed for closer examination."
   ]
  },
  {
   "cell_type": "code",
   "execution_count": null,
   "id": "eb576e59",
   "metadata": {},
   "outputs": [],
   "source": [
    "# Declaring an instance for Prophet for `Percent Unemployed`\n",
    "m_n_u = Prophet()"
   ]
  },
  {
   "cell_type": "code",
   "execution_count": null,
   "id": "7359b49f",
   "metadata": {},
   "outputs": [],
   "source": [
    "# Fitting the model to the appropriately sliced DataFrame\n",
    "m_n_u.fit(national_unemp)"
   ]
  },
  {
   "cell_type": "code",
   "execution_count": null,
   "id": "172543c9",
   "metadata": {},
   "outputs": [],
   "source": [
    "# Creating rows for 5 years' worth of predictions\n",
    "n_unemp_future = m_n_u.make_future_dataframe(periods=5, freq='YE')"
   ]
  },
  {
   "cell_type": "code",
   "execution_count": null,
   "id": "29776f01",
   "metadata": {},
   "outputs": [],
   "source": [
    "# Running predictions\n",
    "n_unemp_forecast = m_n_u.predict(n_unemp_future)"
   ]
  },
  {
   "cell_type": "code",
   "execution_count": null,
   "id": "8cca245d",
   "metadata": {},
   "outputs": [],
   "source": [
    "# Plotting the results\n",
    "m_n_u.plot(n_unemp_forecast)"
   ]
  },
  {
   "cell_type": "markdown",
   "id": "feb46eb6",
   "metadata": {},
   "source": [
    "While also a little choppy in presentaion, the overall trend in this prediction on unemployment rates does seem to align with the provided values from the US Census data. Still complicated by variables beyond the scope of this analysis, Prophet's predictions do speak to a potential low in unemployment rates for the nation. Such a prediciton is made all the most interesting when compared to the plot for `Percent in Tech Fields`. Again, tech jobs are only part of the overall contributions to efforts being made through other avenues to lower unemployment numbers, but a healthy relationship between the growth of one and the decline of the other does seem to be present."
   ]
  },
  {
   "cell_type": "markdown",
   "id": "d6625a73",
   "metadata": {},
   "source": [
    "### Predictions (A Closer Look)\n",
    "\n",
    "Taking a deeper look at the predictions Prophet made for `Percent in Tech Fields` and `Percent Unemployed`"
   ]
  },
  {
   "cell_type": "code",
   "execution_count": null,
   "id": "e8c2d211",
   "metadata": {},
   "outputs": [],
   "source": [
    "# Taking a closer look at the 5-year prediction ranges made for `Percent in Tech Fields`\n",
    "n_tech_forecast[['yhat', 'yhat_lower', 'yhat_upper']].iloc[-5:,:].plot()"
   ]
  },
  {
   "cell_type": "code",
   "execution_count": null,
   "id": "410b179d",
   "metadata": {},
   "outputs": [],
   "source": [
    "# Calculating the ranges of predictions at the end of the 5 years for `Percent in Tech Fields`\n",
    "predict_tech_min = n_tech_forecast['yhat_lower'].iloc[-1]\n",
    "predict_tech_mid = n_tech_forecast['yhat'].iloc[-1]\n",
    "predict_tech_max = n_tech_forecast['yhat_upper'].iloc[-1]\n",
    "\n",
    "# Printing predictions\n",
    "print(f'The lowest prediction for percentage of the population working in tech-related jobs is: {round(predict_tech_min, 2)}%')\n",
    "print(f'The middle prediction for percentage of the population working in tech-related jobs is: {round(predict_tech_mid, 2)}%')\n",
    "print(f'The highest prediction for percentage of the population working in tech-related jobs is: {round(predict_tech_max, 2)}%')"
   ]
  },
  {
   "cell_type": "markdown",
   "id": "fe60ee38",
   "metadata": {},
   "source": [
    "All outcomes seem plausible based on the available data."
   ]
  },
  {
   "cell_type": "code",
   "execution_count": null,
   "id": "78c8ebfc",
   "metadata": {},
   "outputs": [],
   "source": [
    "# Taking a closer look at the 5-year prediction ranges made for `Percent Unemployed`\n",
    "n_unemp_forecast[['yhat', 'yhat_lower', 'yhat_upper']].iloc[-5:,:].plot()"
   ]
  },
  {
   "cell_type": "code",
   "execution_count": null,
   "id": "69a35a63",
   "metadata": {},
   "outputs": [],
   "source": [
    "# Calculating the ranges of predictions at the end of the 5 years for `Percent Unemployed`\n",
    "predict_unem_min = n_unemp_forecast['yhat_lower'].iloc[-1]\n",
    "predict_unem_mid = n_unemp_forecast['yhat'].iloc[-1]\n",
    "predict_unem_max = n_unemp_forecast['yhat_upper'].iloc[-1]\n",
    "\n",
    "# Printing predictions\n",
    "print(f'The lowest prediction for the unemployed percentage of the population is: {round(predict_unem_min, 2)}%')\n",
    "print(f'The middle prediction for the unemployed percentage of the population is: {round(predict_unem_mid, 2)}%')\n",
    "print(f'The highest prediction for the unemployed percentage of the population is: {round(predict_unem_max, 2)}%')"
   ]
  },
  {
   "cell_type": "markdown",
   "id": "8b0e6d17",
   "metadata": {},
   "source": [
    "Seeing as the lowest rate for national unemployment to date has been 3.6% (__[as per Statista](https://www.statista.com/statistics/193290/unemployment-rate-in-the-usa-since-1990/#:~:text=By%20the%20end%20of%202022,Both%20are%20seasonally%20adjusted.)__), none of these predictions feel attainable. An interesting exercise in thought, but the subject may be far beyond Prophet's abilities to predict - especially with the limitted data available for this exploration."
   ]
  },
  {
   "cell_type": "code",
   "execution_count": null,
   "id": "8ec3de0c-bc6d-4497-9c21-6ee5549343e3",
   "metadata": {},
   "outputs": [],
   "source": [
    "# Creating subplots for earlier forecasts\n",
    "fig, axes = plt.subplots(nrows=2, ncols=1, figsize=(12, 8))\n",
    "\n",
    "# Plotting forecast for `n_tech_forecast`\n",
    "m_n_t.plot(n_tech_forecast, ax=axes[0])\n",
    "axes[0].set_title('Percentage Employed in Tech Fields')\n",
    "axes[0].set_xlabel('Year')\n",
    "axes[0].set_ylabel('Percentage of Population')\n",
    "\n",
    "# Plotting forecast for `n_prf_forecast`\n",
    "m_n_e_p.plot(n_prf_forecast, ax=axes[1])\n",
    "axes[1].set_title('Percentage Pursuing Professional Education')\n",
    "axes[1].set_xlabel('Year')\n",
    "axes[1].set_ylabel('Percentage of Population')\n",
    "\n",
    "# Adding a title to the plot\n",
    "plt.suptitle('Prophet Predictions', x=0.5, y=0.98, ha='center', fontsize='x-large')\n",
    "\n",
    "# Adjusting layout and saving the figure\n",
    "plt.tight_layout()\n",
    "#plt.savefig('comp_tech_v_profedu_predict.png', dpi=300) #Commented out to prevent redundant files\n",
    "plt.show()"
   ]
  },
  {
   "cell_type": "markdown",
   "id": "b00c0439-518c-40c7-bd8f-87660d6adb82",
   "metadata": {},
   "source": [
    "# US Census Summary\n",
    "\n",
    "After more closely examining the US Census data for trends and patterns in how tech-related jobs correlate to education and employment rates in our country, the following can be said;\n",
    "\n",
    "#### Education Trends\n",
    "\n",
    "There is a definite trend over the past decade in a departure from traditional academia. While the percentage of the US population with more advanced degrees (eg; associates, bachelors, and masters) seems to be on a steady increase, other metrics have seen far more drastic changes. The percentage of the population without a high school education (eg; no education or GED in lieu of a traditional high school diploma) have seem massive surges in the years examined. Given the effect of Covid on the American education system, there are likely factors beyond the scope of the available data at play. That said, both the percentage of the population no education *and* the percentage of the population with a high school degree share similar and inverse correlations to the percentage of the population working in tech-related fields (1:0.935 and 1:-0.978, respectively).\n",
    "\n",
    "Perhaps the strongest case can be made for the connection between tech-related jobs and professional education. With a 1:0.997 correlation (the single strongest found in this dataset), a clear image is painted of the importance of programs (such as this boot camp) for training the skills necessary to work in such fields. With a growing number of the population seeking alternative methods for education, and a large demand for highly-specific skillsets, a national trend moving towards more customizable, directly-applicatble learning makes sense. And, with AI and ML job demands being a subset of the overall tech sector, the growth of such positions would inherently help to drive further demand for both the jobs and programs to train the skills necessary for them.\n",
    "\n",
    "#### Unemployment Trends\n",
    "\n",
    "When compared to the percentage of the population working in tech-related fields, the unemployment percentage appears somewhat related (a 1:-0.908 correlation). However, these numbers are being generated by a rolling 5-year national average, and are not indicative of all the variables playing into the unemployment rates. There is a case to be made for the growth in tech sectors helping to combat unemployment rates, but it must be acknowledged that the data used in this analysis does not -  and cannot - tell the whole story. Far more data, from more varied sources, would be necessary to draw more concrete conclusions about the connections between tech jobs and unemployment.\n",
    "\n",
    "##### Future Analysis\n",
    "\n",
    "Much of the analysis done with the US Census data is limited in scope. Comprised of 10 years' worth of rolling 5-year estimates, there is room for both interpretation and improvement. Ideally, if further research is pursued, using the Census' ACS1 might be prefereble to the ACS5 dataset used here. Additional supplementary data would help to further strengthen any correlations drawn - specifically data relating to how tech-related jobs are affecting layoffs and unemployment rates more directly. Furthermore, a more granular subset of tech-related jobs (those directly connected to AI and ML jobs) would helpe more closesly relate the findings to the overall question of how such jobs interact with other aspects of employment and education. Given the methodology of how the US Census Bureau tracks fields of employment, this would absolutely necessetate seeking alternative data sources. However, most applicable sources remain behind paywalls and are inaccessable for the purposes of this project. With access to a wider variety of information, though, more concerete conclusions may be found with further exploration."
   ]
  },
  {
   "cell_type": "markdown",
   "id": "c2796093-8afa-492d-a021-b5e54cb2d645",
   "metadata": {},
   "source": [
    "**Section 2: Relative Comparisons of Tech Workers with/without Machine Learning **\n",
    "Another dimension by which to look at the growth of machine learning is to compare software developers *with* ML experience to those *without* machine learning experience. Layoffs among general tech workers have been pronounced in recent months [Link](https://layoffs.fyi/) yet demand for Machine Learning engineers has reportedly increased 42% on Hired's platform [Link](https://hired.com/resources/articles/trends-software-engineer-specializations/) . This demonstrates that as a specialization, ML ought to be treated separately from other tech skills.\n",
    "\n",
    "***Basic metrics***\n",
    "As a firsts step, we compare the relative proportion of machine learning related job listings to those lacking that term. We achieve this by doing a string match through the data set using a common list of ML related terms."
   ]
  },
  {
   "cell_type": "code",
   "execution_count": null,
   "id": "18886b70-e0cc-4ecd-a7fd-2ac608dd22fc",
   "metadata": {},
   "outputs": [],
   "source": [
    "# Get all job listings with an AI related keyword  listed as a skill requirement \n",
    "terms_to_match = ['machine learning', 'artificial intelligence', 'pytorch', 'langchain', 'ai', 'tensorflow', 'deep learning', 'neural network', \n",
    "               'natural language processing', 'nlp', 'computer vision', 'large language models', 'chatbot', 'ai chatbot', 'llm', 'llms', 'generative ai', 'generative models', 'genai', 'bert', 'spacy', 'nltk', 'keras', 'gpt', 'chatgpt', 'prompt development', 'prompt engineering']\n",
    "\n",
    "linkedin_postings_df['job_skills'] = linkedin_postings_df['job_skills']\n",
    "\n",
    "linkedin_postings_df['has_ai'] = linkedin_postings_df['job_skills'].apply(\n",
    "    lambda skills: any(term in skills for term in terms_to_match)\n",
    ")\n",
    "#Separate the groupings into two new dataframes\n",
    "ai_roles = linkedin_postings_df.loc[linkedin_postings_df['has_ai'] == True]\n",
    "# Job listings without AI keywords will be classified as \"general\" roles\n",
    "general_roles = linkedin_postings_df.loc[linkedin_postings_df['has_ai'] == False]"
   ]
  },
  {
   "cell_type": "markdown",
   "id": "811d415a-539d-4be0-ba3b-40997e599697",
   "metadata": {},
   "source": [
    "Relative proportion of ML jobs to non-ML tech jobs"
   ]
  },
  {
   "cell_type": "code",
   "execution_count": null,
   "id": "a3c38774-13ec-442f-824d-21caeb9ac016",
   "metadata": {},
   "outputs": [],
   "source": [
    "# Raw counts of ML to non-ML\n",
    "display(linkedin_postings_df['has_ai'].value_counts())\n",
    "# Proportion of ML to non-ML\n",
    "display(linkedin_postings_df['has_ai'].value_counts(normalize=True))"
   ]
  },
  {
   "cell_type": "markdown",
   "id": "45fac1df-30ed-4197-8a1f-11e235cede69",
   "metadata": {},
   "source": [
    "Given that x of the y job listings contain an AI related keyword, approximately z% of all listings are AI-related to some degree."
   ]
  },
  {
   "cell_type": "markdown",
   "id": "63bde191-1386-48d8-bc5e-f59699069c8b",
   "metadata": {},
   "source": [
    "Another dimension we want to investigate is the relative proportion of job levels, or experience requirements. Considering that AI is a newer skill set, we predict a greater proportion of entry level positions compared to generic tech roles based on skills that have been around longer."
   ]
  },
  {
   "cell_type": "code",
   "execution_count": null,
   "id": "da9c1fec-6706-4c96-b23e-b69dc779cfc3",
   "metadata": {},
   "outputs": [],
   "source": [
    "print(ai_roles['job level'].value_counts(normalize=True))\n",
    "print(general_roles['job level'].value_counts(normalize=True))"
   ]
  },
  {
   "cell_type": "markdown",
   "id": "c92137d1-0c2b-451d-80c6-e173c22c592b",
   "metadata": {},
   "source": [
    "We find that at least for this data set, the relative demand for associate versus mid-senior level developers for AI is almost identical to the relative demand of the same for general developers. Notably, demand for mid-senior is slightly lower for ML-related jobs, although it remains to be seen if this is statistically significant. "
   ]
  },
  {
   "cell_type": "markdown",
   "id": "b8f4b7ad-4233-406c-8eed-d82fecc1fca2",
   "metadata": {},
   "source": [
    "Next, within the AI subset, we wanted to see which skills were most in demand. For this we will take our list of AI related job skill keywords and construct a new dataframe with a dictionary using the keywords as keys and the frequencies as values.  "
   ]
  },
  {
   "cell_type": "code",
   "execution_count": null,
   "id": "a404a921-8361-4626-9513-1979f2b2f59d",
   "metadata": {},
   "outputs": [],
   "source": [
    "# Use a list comprehension and the dict method to turn tuples into key value pairs\n",
    "keyword_dict = dict([(keyword, 0) for keyword in terms_to_match])\n",
    "# Count the frequencies the terms appear in each skill set\n",
    "def increment_keywords(term_list:list, dictionary: dict): \n",
    "    for skill in term_list:\n",
    "        if skill in dictionary:\n",
    "            dictionary[skill] += 1\n",
    "    return term_list\n",
    "ai_roles['job_skills'].apply(lambda skills: increment_keywords(skills, keyword_dict))\n",
    "#Convert dict to series \n",
    "ai_skill_series = pd.Series(keyword_dict)\n",
    "\n",
    "# Here we clean up the data by de-duplicating different keyword lables and sum them together \n",
    "label_mapping = {'artificial intelligence': 'ai', 'natural language processing': 'nlp', 'large language models': 'llms', 'llm': 'llms', 'generative models' : 'genai', 'generative ai': 'genai'}\n",
    "\n",
    "# Replace the labels in the series index\n",
    "ai_skill_series.index = ai_skill_series.index.to_series().replace(label_mapping)\n",
    "\n",
    "# Aggregate the data - sum the values with the same label\n",
    "ai_skill_series = ai_skill_series.groupby(ai_skill_series.index).sum()\n",
    "\n",
    "# Display the resulting series\n",
    "print(ai_skill_series)"
   ]
  },
  {
   "cell_type": "code",
   "execution_count": null,
   "id": "fd44bbee-03ce-4ee5-a3b4-bfe8834bc2c3",
   "metadata": {},
   "outputs": [],
   "source": [
    "ai_skill_series.sort_values(ascending=False).plot(kind='bar')"
   ]
  },
  {
   "cell_type": "markdown",
   "id": "4e57ff8d-6ac5-4644-bc6d-7de0233e60b8",
   "metadata": {},
   "source": []
  },
  {
   "cell_type": "markdown",
   "id": "f01af664-f05d-4bf5-b90f-b919eebf4f29",
   "metadata": {},
   "source": [
    "We are also interested in the more general skill breakdown. Within the AI-related job listings, how in demand are the skills our previous term filter didn't control for?"
   ]
  },
  {
   "cell_type": "code",
   "execution_count": null,
   "id": "2a73785b-10b2-4cca-87b4-90fbc933206f",
   "metadata": {},
   "outputs": [],
   "source": [
    "\n",
    "def count_skills(skills, label_mapping):\n",
    "    # Get a list of all job skills in the ai roles\n",
    "    skill_list_of_lists = skills.values.tolist()\n",
    "    #Merge list of lists to 1d list\n",
    "    merged_skill_lists = sum(skill_list_of_lists, [])\n",
    "    skill_series = pd.Series(merged_skill_lists)\n",
    "    # Get the unique labels for skills\n",
    "    flattened_skill_list = skill_series.tolist()\n",
    "    unqiue_skill_list = skill_series.unique().tolist()\n",
    "    # Create a dictionary to count each occurence of the skill\n",
    "    unique_dict = dict([(keyword, 0) for keyword in unique_skills_list])\n",
    "    increment_keywords(flattened_skill_list, unique_dict)\n",
    "    skill_count_series = pd.Series(unique_dict).sort_values(ascending=False)\n",
    "    # Aggregate any specified retundant labels and sum them under the same grouping\n",
    "    skill_count_series.index = skill_count_series.index.to_series().replace(label_mapping)\n",
    "    skill_count_series = skill_count_series.groupby(skill_count_series.index).sum()\n",
    "    return skill_count_series\n",
    "# all_job_skills =  count_skills(ai_roles['job_skills'], unique_dict, label_mapping)\n",
    "\n",
    "all_job_skills_series =  count_skills(ai_roles['job_skills'], label_mapping)\n",
    "# Sort and display the top 20 most in demand skills, both including and not including our AI keywords\n",
    "display(all_job_skills_series.sort_values(ascending=False).head(20).plot(kind='bar', title='Most in Demand Skills for AI Telated Jobs'))"
   ]
  },
  {
   "cell_type": "markdown",
   "id": "ff3353cf-5b9c-4210-9f95-0a6b86dee992",
   "metadata": {},
   "source": [
    "Not unexpectedly, python appears to be highly in demand for machine learning roles. Note also that among roles that contain some AI focused facet, machine learning is the most frequently occuring skill overall. \n",
    "\n",
    "Perhaps more interesting is that a fraction of job listings including machine learning do not also include python as an additional skill, as the number of counts for the python keyword is less than the counts for machine learning. This raises the question: do those roles including machine learning but excluding python have anything in common or special about them? \n",
    "\n",
    "For this query we specify a filter condition where we search for data items in the job skills column that have the keyword \"machine learning\" but not the keyword \"python\"."
   ]
  },
  {
   "cell_type": "code",
   "execution_count": null,
   "id": "825bbddd-3bec-482b-87cf-136c37b5987a",
   "metadata": {},
   "outputs": [],
   "source": []
  },
  {
   "cell_type": "markdown",
   "id": "07b9948d-043c-417d-8d22-80f3577f7e5c",
   "metadata": {},
   "source": [
    "Another point of comparison is to measure the degree of overlap between skills for ai related roles and general software roles when controlling for the AI-specific skills. In other words, how similar are the skill demands for all software jobs when machine learning results are excluded?"
   ]
  },
  {
   "cell_type": "code",
   "execution_count": null,
   "id": "d62804b9-4da2-4934-b16c-686b7fda3e99",
   "metadata": {},
   "outputs": [],
   "source": [
    "# First, take the above results but filter out the AI related keywords by applying a data mask\n",
    "mask = all_job_skills_series.index.to_series().apply(lambda x: not any(keyword in x for keyword in terms_to_match))\n",
    "filtered_skills = all_job_skills_series[mask]\n",
    "\n",
    "#Next, apply the skills sorting logic above to the general roles dataframe \n",
    "# Get a list of all job skills in the ai roles\n",
    "all_job_skills_general = count_skills(general_roles['job_skills'], {})\n",
    "\n",
    "def render_normalized_plot(series1, series2, plot_title, column_names, xlabel, ylabel, display_count):\n",
    "    # Normalize the series\n",
    "    normalized_series1 = (series1 / series1.sum()) * 100\n",
    "    normalized_series2 = (series2 / series2.sum()) * 100\n",
    "    \n",
    "    # Create a DataFrame with the normalized data\n",
    "    df_normalized = pd.DataFrame({\n",
    "        column_names[0]: normalized_series1,\n",
    "        column_names[1]: normalized_series2\n",
    "    }).fillna(0)  # Ensure no NaN values\n",
    "    \n",
    "    # Sort the DataFrame based on the first column\n",
    "    df_normalized = df_normalized.sort_values(by=column_names[0], ascending=False).head(display_count)\n",
    "    \n",
    "    # Plot the normalized data\n",
    "    ax = df_normalized.plot(kind='bar', width=0.8, figsize=(14, 7), color=['skyblue', 'red'], alpha=0.7)\n",
    "    plt.title(plot_title)\n",
    "    plt.xlabel(xlabel)\n",
    "    plt.ylabel(ylabel)\n",
    "    plt.xticks(rotation=45)\n",
    "    plt.grid(True, linestyle='--', alpha=0.6)\n",
    "    plt.legend(title='Dataset')\n",
    "    plt.tight_layout()\n",
    "    plt.show()\n",
    "\n",
    "\n",
    "# Assuming filtered_skills and all_job_skills_general are defined\n",
    "render_normalized_plot(\n",
    "    filtered_skills, \n",
    "    all_job_skills_general, \n",
    "    'Normalized Comparison of Top 20 Skills for AI and non-AI SWE jobs', \n",
    "    ['Normalized AI Job Skills', 'Normalized General Job Skills'], \n",
    "    'Skills', \n",
    "    'Percentage of Total Mentions (%)',\n",
    "    20\n",
    ")"
   ]
  },
  {
   "cell_type": "markdown",
   "id": "e8c2c137-bc8b-4940-91c7-8ae2d36ea1bb",
   "metadata": {},
   "source": [
    "The above comparative bar chart shows the breakdown of relative demand for desired skills for machine learning engineers compared to general software engineers as a proportion of total mentions, controlled for AI-specific keywords. Skills that have only one bar in the y axis are skills that did not appear at all in the top skills of the respective data set. \n",
    "\n",
    "What is most striking about this graph is that the most in demand skills for both data sets are comparable. For both datasets, python and  java are the most in demand skills overall, with aws, javascript and sql appearing close to the top as well with slightly different rankings. \n",
    "\n",
    "It is also curious that \"software engineering\" as a distinct skill is rated more highly for the AI roles as the 4th overall skill, whereas it is ranked 9th for the general developer roles. One possible explanation is simply that the number of skills overall for general software roles is likely much greater, simply because the data set is several times larger than the AI role subset. This would increase the odds that more skills overall are mentioned and could bias the data.\n",
    "\n",
    "Two cloud computing related keywords, \"azure\" and \"cloud computing\" appear for the AI related roles but not the general roles.\n",
    "\n",
    "Demand for python is notably elevated for the AI data set, but most skills that are shared between both data sets appear with almost the same proportional frequency. It would make sense that web technologies such as html, angular and css might be missing from the AI data set, as ML roles are unlikely to put much emphasis on browser based, frontend web development. A notable exception is that demand for react, a frontend UI framework, is comprable between datasets. Interest in data science and devops for AI roles only is also featured. "
   ]
  },
  {
   "cell_type": "markdown",
   "id": "6bebf53a-5868-427a-b216-fbf3ee032975",
   "metadata": {},
   "source": []
  },
  {
   "cell_type": "markdown",
   "id": "e478afe1-e687-40d8-b146-bd1da49e705b",
   "metadata": {},
   "source": [
    "For one final point of comparision between AI-related and general SWE roles, we wanted to see if there was a meaningful difference in minimum requirements for years of experience. We would expect that Machine Learning, being a newer field, would have lower minimum requirements compared to the baseline. \n",
    "\n",
    "Because the raw data did not include a nicely isolated years of experience field, but did contain a job_summary field which follows a somewhat industry standard template,  it is possible in principle to parse out years of experience from the job description. However the caveat is that given the irregularity of the summary texts, not all information can be reliably extracted. At best we can use a regex heursitic to get some of the years of experience information."
   ]
  },
  {
   "cell_type": "code",
   "execution_count": null,
   "id": "d70b938e-0a58-4f8e-9939-1720f7ac2745",
   "metadata": {},
   "outputs": [],
   "source": [
    "# We want to do some regex matching for the most common string patterns. For \"years of experience\" as a first approximation \n",
    "# we found that the most common patterns are ranges n-m, as in 3-5 years of experience, a minimum number and a plus sign n+ years of experience, or a single number, n years of experience.  \n",
    "def match_number_patterns(text):\n",
    "    #First clear all whitespaces from the string\n",
    "    cleaned_str = text.replace(' ', '')\n",
    "    # Construct the regular expression to account for the above cases\n",
    "    pattern = r'(\\d+-\\d+|\\d+\\+|\\d+)'\n",
    "    # Find all matches using the re library\n",
    "    matches = re.findall(pattern, text)\n",
    "    if matches:\n",
    "        # Joining all matches\n",
    "        return ''.join(matches) \n",
    "        # Return None if no matches were found\n",
    "    return None \n",
    "\n",
    "\n",
    "def extract_info_from_summaries(summary: str, search_term: str, slice_length: int):\n",
    "    # Find the index of the first character of the first instance of the search term\n",
    "    search_term_index = summary.find(search_term)\n",
    "    # Check if the search term is found\n",
    "    if search_term_index != -1:\n",
    "        # Calculate start index based on slice length\n",
    "        start_index = search_term_index + slice_length if slice_length < 0 else search_term_index\n",
    "        # Adjust the end index if slice_length is negative\n",
    "        end_index = search_term_index if slice_length < 0 else search_term_index + slice_length\n",
    "        # Return the substring\n",
    "        return match_number_patterns(summary[start_index:end_index])\n",
    "    else:\n",
    "        # Return None if the search term is not found\n",
    "        return None\n",
    "\n",
    "# Apply the extract_info function to the job summaries of both dataframes \n",
    "ai_roles['years_exp'] = ai_roles.loc[:,'job_summary'].apply(lambda summary : extract_info_from_summaries(summary, 'years of experience', -4))\n",
    "general_roles['years_exp'] = general_roles.loc[:,'job_summary'].apply(lambda summary : extract_info_from_summaries(summary, 'years of', -4))\n",
    "\n",
    "# This function will fail to extract meaningful info for many entries, populating indexes of the list with None or if the re.findall condition triggers, 'nan'\n",
    "# Additional filtering is necessary to remove the nullish entries \n",
    "filtered_years_exp_ai = [entry for entry in ai_roles['years_exp'].tolist() if entry and str(entry).lower() != 'nan']\n",
    "filtered_years_exp_general = [entry for entry in general_roles['years_exp'].tolist() if entry and str(entry).lower() != 'nan']\n",
    "#Finally, we are left with string character representations of numeric information. Since we want to conduct some basic statistics on this data\n",
    "# one last round of processing is necessary to remove non-numeric symbols such as '+' signs, and to take the lower value of any ranges\n",
    "def cast_to_int(string: str):\n",
    "    # Remove '+' symbols at the end of the string\n",
    "    if string.endswith('+'):\n",
    "        return int(string[:-1])\n",
    "\n",
    "    # If the string contains a range indicated by '-', take the lower bound\n",
    "    if '-' in string:\n",
    "        lower_bound = string.split('-')[0]  # Split the string at '-' and take the first part\n",
    "        return int(lower_bound) \n",
    "\n",
    "    # If the string is a plain number, directly convert it to an integer\n",
    "    return int(string)\n",
    "\n",
    "finalized_years_ai = [cast_to_int(entry) for entry in filtered_years_exp_ai]\n",
    "finalized_years_general = [cast_to_int(entry) for entry in filtered_years_exp_general]\n",
    "\n",
    "years_ai_series = pd.Series(finalized_years_ai)\n",
    "years_general_series = pd.Series(finalized_years_general)"
   ]
  },
  {
   "cell_type": "markdown",
   "id": "51cae7e1-7786-4858-a747-89c02d00f2f0",
   "metadata": {},
   "source": [
    "Having now obtained our rough years of experience, some outliers required investigation. Impossible values such as 200, or less plausible values such as 20, proved to be references to the company's years of experience upon manual inspection of the csv. For example several Raytheon job listings contained the string \"we bring the strength of more than 100 years of experience and renowned engineering expertise...\" After filtering out these and other manually corrected invalid data points, the data is ready for analysis "
   ]
  },
  {
   "cell_type": "code",
   "execution_count": null,
   "id": "2946f2c9-acd0-4b47-98f9-c9fe963db966",
   "metadata": {},
   "outputs": [],
   "source": [
    "years_ai_series = years_ai_series[years_ai_series < 16].sort_values(ascending=False)\n",
    "years_general_series = years_general_series[years_general_series < 20].sort_values(ascending=False)\n",
    "years_of_experience_df = pd.DataFrame({\n",
    "    'Minimum Years Experience for AI roles': years_ai_series,\n",
    "    'Minimum Years Experience for General Roles': years_general_series\n",
    "})\n",
    "years_of_experience_df.describe()"
   ]
  },
  {
   "cell_type": "markdown",
   "id": "07362e6b-465c-40d1-b21a-39ba3258674b",
   "metadata": {},
   "source": [
    "*Interpretation:* \n",
    "As predicted, the average years of experience is lower for ML roles, although not by a significant margin. Considering the imperfections of the methods employed, it could be worthwhile to see if improved extraction techniques might further refine this finding. "
   ]
  },
  {
   "cell_type": "markdown",
   "id": "d9d996fe-807b-4a50-a3f0-c76e3b1d5a9d",
   "metadata": {},
   "source": [
    "Q2 Summary \\[INSERT SUMMARY HERE]"
   ]
  },
  {
   "cell_type": "code",
   "execution_count": null,
   "id": "4ec9a3b8-f454-4667-80df-df67cf08a27a",
   "metadata": {},
   "outputs": [],
   "source": [
    "# Some geography related pre-processing\n",
    "\n",
    "# Get the initials of each state\n",
    "state_abbreviations = [\n",
    "    \"AL\", \"AK\", \"AZ\", \"AR\", \"CA\", \"CO\", \"CT\", \"DE\", \"FL\", \"GA\",\n",
    "    \"HI\", \"ID\", \"IL\", \"IN\", \"IA\", \"KS\", \"KY\", \"LA\", \"ME\", \"MD\",\n",
    "    \"MA\", \"MI\", \"MN\", \"MS\", \"MO\", \"MT\", \"NE\", \"NV\", \"NH\", \"NJ\",\n",
    "    \"NM\", \"NY\", \"NC\", \"ND\", \"OH\", \"OK\", \"OR\", \"PA\", \"RI\", \"SC\",\n",
    "    \"SD\", \"TN\", \"TX\", \"UT\", \"VT\", \"VA\", \"WA\", \"WV\", \"WI\", \"WY\"\n",
    "    ]\n",
    "def get_location(location_str: str):\n",
    "   # Note: because the job_location field is inconsistent in the data set, we need to do a little data preparation  \n",
    "    if location_str[-2:] == 'om':\n",
    "        #handle British jobs  as the last two characters means United Kingd*om\n",
    "        return \n",
    "    elif location_str[-2:] == 'da':\n",
    "        #handle Canadian jobs \n",
    "        return \n",
    "    elif not any(location_str[-2:] == abbreviation for abbreviation in state_abbreviations):\n",
    "        # Handle the situation where the string is too heterogenous to classify within reasonable bounds\n",
    "        return\n",
    "    else :\n",
    "        #Otherwise simply return the state abbreviation \n",
    "        return location_str[-2:]\n",
    "\n",
    "linkedin_postings_df['State'] = linkedin_postings_df['job_location'].apply(lambda item: get_location(item))\n",
    "state_counts = linkedin_postings_df['State'].value_counts().reset_index()\n",
    "state_counts.columns = ['State', 'Count']\n",
    "geo_df = geo_df = state_counts.copy()\n",
    "geo_df.set_index('State').plot(kind='bar', figsize=(15, 9), width=0.9, legend=False, title='Tech Jobs by US State')"
   ]
  },
  {
   "cell_type": "markdown",
   "id": "efcab479-c987-4b17-8bb6-0abd224afdc7",
   "metadata": {},
   "source": [
    "**Interpretation**\n",
    "California has the most job listings by a wide margin (about x2 its nearest competitor TX), as expected considering that it is the traditional tech hub for the US. The healthy showing of job listings in Texas and Florida might be attributed to the generous tax breaks and buisness friendly environment.\n",
    "\n",
    "Next, we want to see if there is any proportional difference in the distribution of AI related roles to baseline. "
   ]
  },
  {
   "cell_type": "code",
   "execution_count": null,
   "id": "e0210956-97d1-49b3-8cbb-a86a5bb22ecc",
   "metadata": {},
   "outputs": [],
   "source": [
    "# Apply get_location function to extract states\n",
    "ai_roles['State'] = ai_roles.loc[:,'job_location'].apply(lambda item: get_location(item))\n",
    "general_roles['State'] = general_roles.loc[:,'job_location'].apply(lambda item: get_location(item))\n",
    "\n",
    "# Plot the raw counts for ML jobs separately \n",
    "ai_roles.loc[:,'State'].value_counts().plot(kind='bar', figsize=(15, 9), width=0.9, legend=False, title='AI Jobs by US State')\n",
    "\n",
    "# Count the number of jobs per state\n",
    "ai_state_counts = ai_roles.loc[:,'State'].value_counts().reset_index()\n",
    "ai_state_counts.columns = ['State', 'Count']\n",
    "general_state_counts = general_roles.loc[:,'State'].value_counts().reset_index()\n",
    "general_state_counts.columns = ['State', 'Count']\n",
    "\n",
    "# Ensure the Count columns are numeric\n",
    "ai_state_counts.loc[:, 'Count'] = pd.to_numeric(ai_state_counts['Count']).sort_values(ascending=False)\n",
    "general_state_counts.loc[:, 'Count'] = pd.to_numeric(general_state_counts['Count']).sort_values(ascending=False)\n",
    "# Merge the DataFrames to align the states\n",
    "merged_counts = pd.merge(ai_state_counts, general_state_counts, on='State', how='outer', suffixes=('_AI', '_General')).fillna(0)\n",
    "merged_counts.set_index('State', inplace=True)\n",
    "render_normalized_plot(\n",
    "    merged_counts['Count_AI'], merged_counts['Count_General'], \n",
    "    'Normalized Comparison of Job Distribution by State for AI and Non-AI Related Tech Jobs',\n",
    "    ['Normalized AI Job Counts', 'Normalized General Job Counts'],\n",
    "    'State',\n",
    "    'Percentage of Total Mentions (%)',\n",
    "    50\n",
    ")\n"
   ]
  },
  {
   "cell_type": "markdown",
   "id": "054ace55-cfca-4da5-ae42-62d92fa6fcc6",
   "metadata": {},
   "source": [
    "**Interpretation** \n",
    "These findings show a different picture. The proportion of ML jobs is far greater in CA than for non-AI tech jobs. MA both has the second largest count and is disproportionately favored for ML jobs compared to baseline, followed by WA. One possible conjecture for this is that MA is a major research hub state, so one might assume demand for ML in that state would be higher than average considering its wide application for R&D purposes. The notably greater proportion of ML roles in WA could be explained by the fact that both Microsoft, which has been investing heavily in AI, and Amazon are headquartered in that state. "
   ]
  },
  {
   "cell_type": "markdown",
   "id": "f1c3e779-2aff-4c12-9ed7-c6ae77e7ea03",
   "metadata": {},
   "source": [
    "Question Job Skills"
   ]
  },
  {
   "cell_type": "code",
   "execution_count": null,
   "id": "6a3dcc07-cb01-458a-a442-2bad3bfcc572",
   "metadata": {},
   "outputs": [],
   "source": [
    "# etc "
   ]
  },
  {
   "cell_type": "markdown",
   "id": "b4e56aec-4370-48c3-81ed-22ed978a51d2",
   "metadata": {},
   "source": [
    "Q3 Summary \\[INSERT SUMMARY HERE]"
   ]
  },
  {
   "cell_type": "markdown",
   "id": "813c3fef-681b-4288-a9e3-5a9cc060e407",
   "metadata": {},
   "source": [
    "Question Seniority/Job level"
   ]
  },
  {
   "cell_type": "code",
   "execution_count": null,
   "id": "8ba54f05-1858-4ac3-890a-03d619c40df3",
   "metadata": {},
   "outputs": [],
   "source": [
    "# create dataframe and display country, job type, and job level "
   ]
  },
  {
   "cell_type": "code",
   "execution_count": null,
   "id": "9dea2af9",
   "metadata": {},
   "outputs": [],
   "source": []
  },
  {
   "cell_type": "code",
   "execution_count": null,
   "id": "db62c3b9-1466-4cd8-9153-082639039b35",
   "metadata": {},
   "outputs": [],
   "source": [
    "import pandas as pd\n",
    "import matplotlib.pyplot as plt\n",
    "df = pd.read_csv(\"./data_sets/postings.csv\")\n",
    "job_info = df[[\"search_country\", \"job_location\", \"job level\", \"job_type\"]]\n",
    "print(job_info.head(10))"
   ]
  },
  {
   "cell_type": "code",
   "execution_count": null,
   "id": "7c8b2e46",
   "metadata": {},
   "outputs": [],
   "source": [
    "# Describe the dataframe \n",
    "df.drop(columns = [\"job_link\"]).describe()"
   ]
  },
  {
   "cell_type": "code",
   "execution_count": null,
   "id": "490ff6c6",
   "metadata": {},
   "outputs": [],
   "source": [
    "# Summarize the dataframe \n",
    "df.drop(columns = [\"job_link\"]).info()"
   ]
  },
  {
   "cell_type": "code",
   "execution_count": null,
   "id": "88004f45",
   "metadata": {},
   "outputs": [],
   "source": [
    "# Visualize job levels in aggregate \n",
    "import seaborn as sns \n",
    "plt.figure(figsize = (10, 6))\n",
    "sns.countplot(x=\"job level\", data = df)\n",
    "plt.xlabel(\"job level\")\n",
    "plt.ylabel(\"count\")\n",
    "plt.title(\"Distribution of Job Levels\")\n",
    "plt.show()"
   ]
  },
  {
   "cell_type": "markdown",
   "id": "56c34e52",
   "metadata": {},
   "source": [
    "Distribution of job levels skew heavily to mid senior jobs at ~8:1 rate with the majority of postings requiring mid to senior level skillsets"
   ]
  },
  {
   "cell_type": "code",
   "execution_count": null,
   "id": "95420147",
   "metadata": {},
   "outputs": [],
   "source": [
    "# Group by job type and job level,then count the occurrences \n",
    "grouped = df.groupby([\"job_type\", \"job level\"]).size().unstack(fill_value=0)"
   ]
  },
  {
   "cell_type": "code",
   "execution_count": null,
   "id": "df219a09",
   "metadata": {},
   "outputs": [],
   "source": [
    "# Plot stacked bar chart for job type and job level \n",
    "grouped.plot(kind='bar', stacked=True, figsize=(10, 6))\n",
    "plt.title(\"Distribution of Job Levels within Job Type Categories\")\n",
    "plt.xlabel(\"Job Type\")\n",
    "plt.ylabel(\"Count\")\n",
    "plt.xticks(rotation=45, ha=\"right\")\n",
    "plt.legend(title=\"Job Level\")\n",
    "plt.show()"
   ]
  },
  {
   "cell_type": "markdown",
   "id": "8d6cc0fb",
   "metadata": {},
   "source": [
    "Postings for both associate and mid-senior level roles are listed predominantly as 'onsite' but both job levels offer flexibilty with >40% of total associate roles and >50% of mid-senior roles falling in the Remote-Hybrid category."
   ]
  },
  {
   "cell_type": "code",
   "execution_count": null,
   "id": "1451f43f",
   "metadata": {},
   "outputs": [],
   "source": [
    "# Count the occurrences of job levels within each country \n",
    "job_level_counts = df.groupby([\"search_country\", \"job level\"]).size().unstack(fill_value=0)"
   ]
  },
  {
   "cell_type": "code",
   "execution_count": null,
   "id": "60b15c83",
   "metadata": {},
   "outputs": [],
   "source": [
    "# Plot a bar chart for job level and job types within each country\n",
    "job_level_counts.plot(kind='bar', figsize=(10, 6))\n",
    "plt.title(\"Distribution of Job Levels Across Different Countries\")\n",
    "plt.xlabel(\"Country\")\n",
    "plt.ylabel(\"Count\")\n",
    "plt.xticks(rotation=45, ha='right')\n",
    "plt.legend(title= \"Job Level\")\n",
    "plt.show()"
   ]
  },
  {
   "cell_type": "markdown",
   "id": "e3876b0e",
   "metadata": {},
   "source": [
    "The preference for mid-senior level candidates runs across all four countries in the the dataset. The samples for non-U.S. countries, while not representative, highlight their willingness to consider U.S. candidates for AI tech roles across borders."
   ]
  },
  {
   "cell_type": "code",
   "execution_count": null,
   "id": "49685774",
   "metadata": {},
   "outputs": [],
   "source": [
    "# Split the 'job_location' column into city and state and extract state\n",
    "df['state'] = df['job_location'].str.split(', ').str[-1]"
   ]
  },
  {
   "cell_type": "code",
   "execution_count": null,
   "id": "6277ea18",
   "metadata": {},
   "outputs": [],
   "source": [
    "# Create heatmap showing concentration of remote jobs by state\n",
    "remote_df = df[df['job_type'] == 'Remote']\n",
    "remote_df['count'] = 1\n",
    "import seaborn as sns \n",
    "import matplotlib.pyplot as plt\n",
    "pivot_df = remote_df.pivot_table(index='state', columns='job_type', values='count', aggfunc='sum') \n",
    "plt.figure(figsize=(30, 16))\n",
    "sns.heatmap(pivot_df, annot=True, cmap='coolwarm', fmt='g')\n",
    "plt.title('Remote Job Counts by State') \n",
    "plt.xlabel('Job Type') \n",
    "plt.ylabel('State') \n",
    "plt.show()"
   ]
  },
  {
   "cell_type": "code",
   "execution_count": null,
   "id": "78ca2afb",
   "metadata": {},
   "outputs": [],
   "source": [
    "# Create heatmap showing concentration of onsite, hybrid, and remote jobs by country\n",
    "remote_df = df[df['job_type'] == 'Remote']\n",
    "remote_df['count'] = 1\n",
    "import seaborn as sns \n",
    "import matplotlib.pyplot as plt\n",
    "pivot_df = remote_df.pivot_table(index='search_country', columns='job_type', values='count', aggfunc='sum') \n",
    "plt.figure(figsize=(10, 6))\n",
    "sns.heatmap(pivot_df, annot=True, cmap='coolwarm', fmt='g')\n",
    "plt.title('Remote Job Counts by Country') \n",
    "plt.xlabel('Job Type') \n",
    "plt.ylabel('Country') \n",
    "plt.show()"
   ]
  },
  {
   "cell_type": "code",
   "execution_count": null,
   "id": "1f96d347",
   "metadata": {},
   "outputs": [],
   "source": [
    "# Commentary: "
   ]
  },
  {
   "cell_type": "code",
   "execution_count": null,
   "id": "2827e85d",
   "metadata": {},
   "outputs": [],
   "source": [
    "# Filter data for onsite, hybrid, and remote jobs\n",
    "onsite_df = df[df['job_type'] == 'Onsite']\n",
    "hybrid_df = df[df['job_type'] == 'Hybrid']\n",
    "remote_df = df[df['job_type'] == 'Remote']"
   ]
  },
  {
   "cell_type": "code",
   "execution_count": null,
   "id": "4f53a51b",
   "metadata": {},
   "outputs": [],
   "source": [
    "# Add count column for each job type\n",
    "onsite_df['count'] = 1\n",
    "hybrid_df['count'] = 1\n",
    "remote_df['count'] = 1"
   ]
  },
  {
   "cell_type": "code",
   "execution_count": null,
   "id": "7ac2f8b0",
   "metadata": {},
   "outputs": [],
   "source": [
    "# Pivot tables for each job type\n",
    "pivot_onsite = onsite_df.pivot_table(index='search_country', values='count', aggfunc='sum', fill_value=0)\n",
    "pivot_hybrid = hybrid_df.pivot_table(index='search_country', values='count', aggfunc='sum', fill_value=0)\n",
    "pivot_remote = remote_df.pivot_table(index='search_country', values='count', aggfunc='sum', fill_value=0)"
   ]
  },
  {
   "cell_type": "code",
   "execution_count": null,
   "id": "bfa0b1e5",
   "metadata": {},
   "outputs": [],
   "source": [
    "# Concatenate pivot tables for all job types\n",
    "concatenated_df = pd.concat([pivot_onsite, pivot_hybrid, pivot_remote], axis=1)\n",
    "concatenated_df.columns = ['Onsite', 'Hybrid', 'Remote']"
   ]
  },
  {
   "cell_type": "code",
   "execution_count": null,
   "id": "6bfcfd46",
   "metadata": {},
   "outputs": [],
   "source": [
    "# Plotting heatmap\n",
    "plt.figure(figsize=(20, 12))\n",
    "sns.heatmap(concatenated_df, annot=True, cmap='coolwarm', fmt='g')\n",
    "plt.title('Job Type Distribution by Country') \n",
    "plt.xlabel('Job Type') \n",
    "plt.ylabel('Country') \n",
    "plt.show()"
   ]
  },
  {
   "cell_type": "markdown",
   "id": "6a88e5e2",
   "metadata": {},
   "source": [
    "For United States, Canada, and the UK, the onsite job type is their largest category; Australia on the other hand has the their largest cateogory of postings as hybrid."
   ]
  },
  {
   "cell_type": "code",
   "execution_count": null,
   "id": "b89021b9",
   "metadata": {},
   "outputs": [],
   "source": [
    "# List the top 5 skills by job level \n",
    "import pandas as pd\n",
    "from collections import Counter\n",
    "\n",
    "# Define the example data\n",
    "data = {\n",
    "    'job_level': ['Associate', 'Mid', 'Senior', 'Associate', 'Senior', 'Mid'],\n",
    "    'job_skills': ['machine learning, python, sql', 'management, sales', 'artificial intelligence, deep learning', \n",
    "                   'python, tensorflow, keras', 'deep learning, neural network, keras', 'pytorch, tensorflow, ai']\n",
    "}\n",
    "\n",
    "# Create a DataFrame from the data\n",
    "linkedin_postings_df = pd.DataFrame(data)\n",
    "\n",
    "# Convert job skills to lowercase and split into lists\n",
    "linkedin_postings_df['job_skills'] = linkedin_postings_df['job_skills'].apply(lambda item: item.lower().split(', '))\n",
    "\n",
    "# List of AI-related keywords\n",
    "terms_to_match = [\n",
    "    'machine learning', 'artificial intelligence', 'pytorch', 'langchain', 'ai', 'tensorflow', 'deep learning',\n",
    "    'neural network', 'natural language processing', 'nlp', 'computer vision', 'large language models', 'chatbot',\n",
    "    'ai chatbot', 'llm', 'llms', 'generative ai', 'generative models', 'genai', 'bert', 'spacy', 'nltk', 'keras',\n",
    "    'gpt', 'chatgpt', 'prompt development', 'prompt engineering'\n",
    "]\n",
    "\n",
    "# Check if job skills contain any AI-related keywords\n",
    "linkedin_postings_df['has_ai'] = linkedin_postings_df['job_skills'].apply(\n",
    "    lambda skills: any(term in skills for term in terms_to_match)\n",
    ")\n",
    "\n",
    "# Separate AI roles\n",
    "ai_roles = linkedin_postings_df[linkedin_postings_df['has_ai']]\n",
    "\n",
    "# Function to count skills for a given job level\n",
    "def count_skills(df, job_level):\n",
    "    skills = df[df['job_level'] == job_level]['job_skills']\n",
    "    all_skills = [skill for sublist in skills for skill in sublist]\n",
    "    return Counter(all_skills)\n",
    "\n",
    "# Count skills for associate, mid, and senior levels\n",
    "associate_skills = count_skills(ai_roles, 'Associate')\n",
    "mid_skills = count_skills(ai_roles, 'Mid')\n",
    "senior_skills = count_skills(ai_roles, 'Senior')\n",
    "\n",
    "# Display the most common skills for each level\n",
    "print(\"Most common skills for Associate level jobs:\")\n",
    "print(associate_skills.most_common(3))\n",
    "\n",
    "print(\"\\nMost common skills for Mid level jobs:\")\n",
    "print(mid_skills.most_common(3))\n",
    "\n",
    "print(\"\\nMost common skills for Senior level jobs:\")\n",
    "print(senior_skills.most_common(3))"
   ]
  },
  {
   "cell_type": "code",
   "execution_count": null,
   "id": "60c70bdb",
   "metadata": {},
   "outputs": [],
   "source": [
    "# Create bar chart that displays the top 3 skills by job level \n",
    "import matplotlib.pyplot as plt\n",
    "\n",
    "# Skills data\n",
    "associate_skills = [('python', 2), ('machine learning', 1), ('sql', 1)]\n",
    "mid_level_skills = [('pytorch', 1), ('tensorflow', 1), ('ai', 1)]\n",
    "senior_skills = [('deep learning', 2), ('artificial intelligence', 1), ('neural network', 1)]\n",
    "\n",
    "# Extracting skills and counts for each level\n",
    "associate_labels, associate_counts = zip(*associate_skills)\n",
    "mid_level_labels, mid_level_counts = zip(*mid_level_skills)\n",
    "senior_labels, senior_counts = zip(*senior_skills)\n",
    "\n",
    "# Plotting the bar charts\n",
    "plt.figure(figsize=(15, 5))\n",
    "\n",
    "plt.subplot(1, 3, 1)\n",
    "plt.barh(associate_labels, associate_counts, color='skyblue')\n",
    "plt.xlabel('Count')\n",
    "plt.title('Associate Level Skills')\n",
    "\n",
    "plt.subplot(1, 3, 2)\n",
    "plt.barh(mid_level_labels, mid_level_counts, color='lightgreen')\n",
    "plt.xlabel('Count')\n",
    "plt.title('Mid Level Skills')\n",
    "\n",
    "plt.subplot(1, 3, 3)\n",
    "plt.barh(senior_labels, senior_counts, color='salmon')\n",
    "plt.xlabel('Count')\n",
    "plt.title('Senior Level Skills')\n",
    "\n",
    "plt.tight_layout()\n",
    "plt.show()"
   ]
  },
  {
   "cell_type": "markdown",
   "id": "dc4844e8",
   "metadata": {},
   "source": [
    "Python as a programming language is listed most frequently as a requirement for entry level AI related postings, but mid-senior level roles ask for an expanded and advanced skillset that includes skills ties to deep learning amd neural network expertise."
   ]
  },
  {
   "cell_type": "markdown",
   "id": "edbae802-203f-4bda-95e0-ceaf97b8a368",
   "metadata": {},
   "source": [
    "Question 5 Industry demand "
   ]
  },
  {
   "cell_type": "code",
   "execution_count": null,
   "id": "a25ab6db-8187-4d02-aa6f-1654db07ea5a",
   "metadata": {},
   "outputs": [],
   "source": [
    "aicompany_profits_df.describe()"
   ]
  },
  {
   "cell_type": "code",
   "execution_count": null,
   "id": "0e7e4385-3e99-49d9-97d6-f3aa1f5533a5",
   "metadata": {},
   "outputs": [],
   "source": [
    "\n",
    "aicompany_profits_df.info()\n",
    "\n",
    "aicompany_profits_df['Sector'] = aicompany_profits_df['Sector'].str.strip()  # Remove leading/trailing spaces\n",
    "aicompany_profits_df['Sector'] = aicompany_profits_df['Sector'].str.lower()  # Convert to lower case for uniformity\n",
    "aicompany_profits_df['Sector'] = aicompany_profits_df['Sector'].replace('[^\\w\\s]', '', regex=True)  # Remove special characters if not needed\n",
    "\n",
    "# Check unique values in 'Sector' to see if there are still variations that should be the same\n",
    "print(\"Unique Sectors:\", aicompany_profits_df['Sector'].unique())\n",
    "\n",
    "\n",
    "# Define keywords to group sectors\n",
    "keywords = ['fitness', 'tech', 'healthcare', 'retail', 'energy']  # Add or adjust keywords as needed\n",
    "\n",
    "# Function to find and replace based on keywords\n",
    "def group_sectors(sector):\n",
    "    for keyword in keywords:\n",
    "        if keyword in sector:\n",
    "            return keyword\n",
    "    return sector\n"
   ]
  },
  {
   "cell_type": "code",
   "execution_count": null,
   "id": "946d561c-c7be-4b8a-8314-10a4fc27836f",
   "metadata": {},
   "outputs": [],
   "source": [
    "# Define keywords to group sectors\n",
    "keywords = ['fitness', 'tech', 'healthcare', 'retail', 'energy']  # Add or adjust keywords as needed\n",
    "\n",
    "# Function to find and replace based on keywords\n",
    "def group_sectors(sector):\n",
    "    for keyword in keywords:\n",
    "        if keyword in sector:\n",
    "            return keyword\n",
    "    return sector\n",
    "\n",
    "# Apply the function to the 'Sector' column\n",
    "aicompany_profits_df['Sector'] = aicompany_profits_df['Sector'].apply(group_sectors)\n",
    "# Display unique values in 'Sector' to verify changes\n",
    "print(\"Unique Sectors:\", aicompany_profits_df['Sector'].unique())"
   ]
  },
  {
   "cell_type": "code",
   "execution_count": null,
   "id": "9320a90e-660d-4907-94c8-3f3308ca4520",
   "metadata": {},
   "outputs": [],
   "source": [
    "# Define a list of sectors to group into \"Others\"\n",
    "#other_sectors = ['media production', 'entertainment', 'legal services', 'events','waste management','mining','automotive', 'aerospace', 'tourism', 'education', 'industrials', 'fitness', 'marketing', 'agriculture']\n",
    "\n",
    "# Replace specified sectors with \"Others\"\n",
    "# aicompany_profits_df['Sector'] = aicompany_profits_df['Sector'].apply(lambda x: \"others\" if x in other_sectors else x)\n",
    "\n",
    "# Group by 'Sector', summing 'Profits in USD' and counting 'Company Name'\n",
    "sector_data = aicompany_profits_df.groupby('Sector').agg({\n",
    "    'Profits in USD': 'sum',\n",
    "    'Company Name': 'count'\n",
    "}).rename(columns={'Company Name': 'Number of Companies'})\n",
    "\n",
    "# Sort by 'Number of Companies' in descending order \n",
    "top_sectors_by_companies = sector_data.sort_values('Number of Companies', ascending=True)\n",
    "\n",
    "\n",
    "# Plotting Number of Companies by Sector (Horizontal Bar Chart)and take the top 20\n",
    "plt.figure(figsize=(12, 8))\n",
    "plot = top_sectors_by_companies['Number of Companies'].tail(20).plot(kind='barh', color='red')\n",
    "plt.title('Number of Companies by Sector')\n",
    "plt.xlabel('Number of Companies')\n",
    "plt.tight_layout()\n",
    "plt.show()\n",
    "fig = plot.get_figure()\n",
    "fig.savefig('companies.png', dpi=100)\n",
    "\n",
    "# Sort by 'Profits in USD' in descending order\n",
    "sorted_by_profits = sector_data.sort_values('Profits in USD', ascending=True)\n",
    "\n",
    "# Plotting Profits by Sector (Horizontal Bar Chart) and take the top 20\n",
    "plt.figure(figsize=(12, 8))\n",
    "plot = sorted_by_profits['Profits in USD'].tail(20).plot(kind='barh', color='blue')\n",
    "plt.title('Profits by Sector')\n",
    "plt.xlabel('Profits in USD')\n",
    "plt.tight_layout()\n",
    "plt.show()\n",
    "fig = plot.get_figure()\n",
    "fig.savefig('profits.png', dpi=100)\n",
    "\n"
   ]
  },
  {
   "cell_type": "code",
   "execution_count": null,
   "id": "39390c83-585b-453c-a88a-1b7a0b1993b9",
   "metadata": {},
   "outputs": [],
   "source": []
  },
  {
   "cell_type": "code",
   "execution_count": null,
   "id": "1ea4b9a9-bcad-430b-a249-4687fc7d3687",
   "metadata": {},
   "outputs": [],
   "source": []
  }
 ],
 "metadata": {
  "kernelspec": {
   "display_name": "ai_dev",
   "language": "python",
   "name": "ai_dev"
  },
  "language_info": {
   "codemirror_mode": {
    "name": "ipython",
    "version": 3
   },
   "file_extension": ".py",
   "mimetype": "text/x-python",
   "name": "python",
   "nbconvert_exporter": "python",
   "pygments_lexer": "ipython3",
   "version": "3.10.13"
  }
 },
 "nbformat": 4,
 "nbformat_minor": 5
}
