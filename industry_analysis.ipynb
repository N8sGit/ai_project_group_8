{
 "cells": [
  {
   "cell_type": "code",
   "execution_count": null,
   "id": "5b7209e4-3605-478b-99da-26069ad65d42",
   "metadata": {},
   "outputs": [],
   "source": [
    "# Install the required libraries\n",
    "!pip install prophet"
   ]
  },
  {
   "cell_type": "code",
   "execution_count": null,
   "id": "79c9ded7-b4be-4175-933f-3df2b445cfa8",
   "metadata": {},
   "outputs": [],
   "source": [
    "# Dependencies\n",
    "# NOTE: We might not use all of these. I just improrted everything I can think of for now. We'll delete the ones we don't need later\n",
    "import requests\n",
    "import time\n",
    "from dotenv import load_dotenv\n",
    "import os\n",
    "import pandas as pd\n",
    "import numpy as np\n",
    "import matplotlib.pyplot as plt \n",
    "import json\n",
    "import path"
   ]
  },
  {
   "cell_type": "code",
   "execution_count": null,
   "id": "681e429e-361f-401b-880d-1a9b83533c3b",
   "metadata": {},
   "outputs": [],
   "source": [
    "#Read data into the notebook\n",
    "linkedin_postings_df = pd.read_csv('./data_sets/postings.csv').dropna()\n",
    "machine_learning_jobs_df = pd.read_json('./data_sets/job_data.json', lines=True)\n",
    "\n",
    "# Normalize, clean, massage, and combine data for ease of processing\n",
    "\n",
    "# Cast all job skills to lower case strings to standardize string matching later\n",
    "linkedin_postings_df['job_skills'] = linkedin_postings_df['job_skills'].apply(lambda item: item.lower().split(', '))"
   ]
  },
  {
   "cell_type": "markdown",
   "id": "70dad630-f2c6-4262-92c4-a63ffc8c0cdb",
   "metadata": {},
   "source": [
    "***Introduction*** \n",
    "The goal of this exploratory data analysis is to characterize and investigate the growth of machine learning as a job skill. We are interested in looking at this topic along a number angles. TBC...."
   ]
  },
  {
   "cell_type": "markdown",
   "id": "3d17b49a-4c47-4758-817c-2084eed6651d",
   "metadata": {},
   "source": [
    "QUESTION Geography "
   ]
  },
  {
   "cell_type": "code",
   "execution_count": null,
   "id": "8ec3de0c-bc6d-4497-9c21-6ee5549343e3",
   "metadata": {},
   "outputs": [],
   "source": [
    "# Insert Question 1 analysis and visualizations here. Insert new cells if necessary "
   ]
  },
  {
   "cell_type": "markdown",
   "id": "b00c0439-518c-40c7-bd8f-87660d6adb82",
   "metadata": {},
   "source": [
    "Q1 Summary \\[INSERT SUMMARY HERE] ... write a little about what the findings above seem to indicate about question 1"
   ]
  },
  {
   "cell_type": "markdown",
   "id": "c2796093-8afa-492d-a021-b5e54cb2d645",
   "metadata": {},
   "source": [
    "Question 2 Relative proportions ML to not-ML"
   ]
  },
  {
   "cell_type": "code",
   "execution_count": null,
   "id": "18886b70-e0cc-4ecd-a7fd-2ac608dd22fc",
   "metadata": {},
   "outputs": [],
   "source": [
    "# Insert question 2 analysis etc here. Insert new cells if necessary"
   ]
  },
  {
   "cell_type": "markdown",
   "id": "d9d996fe-807b-4a50-a3f0-c76e3b1d5a9d",
   "metadata": {},
   "source": [
    "Q2 Summary \\[INSERT SUMMARY HERE]"
   ]
  },
  {
   "cell_type": "markdown",
   "id": "f1c3e779-2aff-4c12-9ed7-c6ae77e7ea03",
   "metadata": {},
   "source": [
    "Question Job Skills"
   ]
  },
  {
   "cell_type": "markdown",
   "id": "813c3fef-681b-4288-a9e3-5a9cc060e407",
   "metadata": {},
   "source": [
    "Question Seniority/Job level"
   ]
  },
  {
   "cell_type": "code",
   "execution_count": null,
   "id": "8ba54f05-1858-4ac3-890a-03d619c40df3",
   "metadata": {},
   "outputs": [],
   "source": [
    "# etc "
   ]
  },
  {
   "cell_type": "code",
   "execution_count": null,
   "id": "db62c3b9-1466-4cd8-9153-082639039b35",
   "metadata": {},
   "outputs": [],
   "source": []
  },
  {
   "cell_type": "markdown",
   "id": "edbae802-203f-4bda-95e0-ceaf97b8a368",
   "metadata": {},
   "source": [
    "Question 5 Industry demand "
   ]
  },
  {
   "cell_type": "code",
   "execution_count": null,
   "id": "0e7e4385-3e99-49d9-97d6-f3aa1f5533a5",
   "metadata": {},
   "outputs": [],
   "source": []
  },
  {
   "cell_type": "code",
   "execution_count": null,
   "id": "1b524f48-a1b3-4c94-8967-4054ac4554b6",
   "metadata": {},
   "outputs": [],
   "source": [
    "QUESTION: AI MODELS"
   ]
  },
  {
   "cell_type": "code",
   "execution_count": null,
   "id": "93d191a7-ae26-4772-8041-b3743182dbc5",
   "metadata": {},
   "outputs": [],
   "source": [
    "# Read data into notebook\n",
    "ai_index_df = pd.read_csv('./data_sets/ai_job_index.csv')\n",
    "\n",
    "# Visualzie and explore the dataframe\n",
    "ai_index_df"
   ]
  },
  {
   "cell_type": "code",
   "execution_count": null,
   "id": "88dde74a-43dd-46f7-9adc-2bf523848dc2",
   "metadata": {},
   "outputs": [],
   "source": [
    "# Analyze the \"Domain\" column for unique values.\n",
    "ai_index_df['Domain'].unique()"
   ]
  },
  {
   "cell_type": "code",
   "execution_count": null,
   "id": "8e205c87-4c36-41b3-b019-1072c78c243e",
   "metadata": {},
   "outputs": [],
   "source": [
    "#Rename \"Domain\" column to \"Sectors\" to match notebook analysis\n",
    "ai_index_df = ai_index_df.rename(columns={'Domain':'Sector'})\n",
    "ai_index_df"
   ]
  },
  {
   "cell_type": "code",
   "execution_count": null,
   "id": "116eb8c4-c50a-4583-8741-3f1f93343351",
   "metadata": {},
   "outputs": [],
   "source": [
    "# Clean the data by removing leading/trailing spaces by removing special characters\n",
    "ai_index_df['Sector'] = ai_index_df['Sector'].replace('[^\\w\\s]', '', regex=True)\n",
    "ai_index_df"
   ]
  },
  {
   "cell_type": "code",
   "execution_count": null,
   "id": "7a5d8474-0677-48b5-b406-4480dcb5a697",
   "metadata": {},
   "outputs": [],
   "source": [
    "# Define keywords to group Sectors in preparation for further analysis and aggregation.\n",
    "sector_grouping = {'Communication  PR':'Media', 'Data  IT':'Tech', 'Administrative  Clerical':'Clerical',\n",
    "                   'Leadership  Strategy':'Consulting', 'Medical  Healthcare':'Healthcare',\n",
    "                   'Supply Chain  Logistics':'Manufacturing', 'Law Enforcement':'Law Enforcement', \n",
    "                   'Construction':'Construction','Sales  Marketing':'Marketing', 'Hospitality':'Hospitality'}\n",
    "\n",
    "ai_index_df['Sector'] = ai_index_df['Sector'].replace(sector_grouping)\n",
    "ai_index_df"
   ]
  },
  {
   "cell_type": "code",
   "execution_count": null,
   "id": "3f67179a-51d4-45aa-ac9c-8f6bc71770a1",
   "metadata": {},
   "outputs": [],
   "source": [
    "# Rename columns for further analysis and clarity\n",
    "ai_index_df = ai_index_df.rename(columns={'Tasks':'Human Tasks'})\n",
    "ai_index_df"
   ]
  },
  {
   "cell_type": "code",
   "execution_count": null,
   "id": "35326e90-8336-45b1-be06-602ff001421b",
   "metadata": {},
   "outputs": [],
   "source": [
    "# Drop colummns that don't pertain to further aggregation and visualization\n",
    "ai_index_df = ai_index_df.drop(columns=['Job titiles','AI Impact','AI_Workload_Ratio'])\n",
    "ai_index_df"
   ]
  },
  {
   "cell_type": "code",
   "execution_count": null,
   "id": "56d2ca40-c4f3-4dff-afb5-dc78ef93286d",
   "metadata": {},
   "outputs": [],
   "source": [
    "# Groupby \"Sector\" and use the sum() aggregation function on the \"AI Models\" column to calculate the total number of AI models per Sector\n",
    "# Visualize data for further analysis.\n",
    "models_by_sectors = ai_index_df.groupby('Sector')['AI models'].sum()\n",
    "models_by_sectors_df = models_by_sectors.reset_index()\n",
    "models_by_sectors_df = models_by_sectors_df.rename(columns={'AI models':'AI Models by Sector'})\n",
    "plt.bar(models_by_sectors_df['Sector'], models_by_sectors_df['AI Models by Sector'], color='orange')\n",
    "plt.xticks(rotation=90)\n",
    "plt.ylabel('Total AI Models')\n",
    "plt.tight_layout()\n",
    "plt.savefig('AI_Models', dpi=300)\n",
    "plt.show()"
   ]
  },
  {
   "cell_type": "markdown",
   "id": "c332d55f-9c17-42aa-b737-094558f64863",
   "metadata": {},
   "source": [
    "This bar graph provides a visual representation of the prevalence of AI Models in the workforce, with at least 800,000 AI models being used in every \"Sector\" of the dataset."
   ]
  },
  {
   "cell_type": "code",
   "execution_count": null,
   "id": "f9e85ba2-eee2-483b-97c6-6e9da690122c",
   "metadata": {},
   "outputs": [],
   "source": [
    "# Groupby \"Sector\" and use the sum() aggregation function on the \"Human Tasks\" column to calculate the total amount of Human Tasks per Sector\n",
    "# Visualize data for further analysis.\n",
    "tasks_by_sectors = ai_index_df.groupby('Sector')['Human Tasks'].sum()\n",
    "tasks_by_sectors_df = tasks_by_sectors.reset_index()\n",
    "plt.bar(tasks_by_sectors_df['Sector'], tasks_by_sectors_df['Human Tasks'], color='red')\n",
    "plt.xticks(rotation=90)\n",
    "plt.ylabel('Total Human Tasks')\n",
    "plt.tight_layout()\n",
    "plt.savefig('Human_Tasks.png', dpi=300)\n",
    "plt.show()"
   ]
  },
  {
   "cell_type": "markdown",
   "id": "a42bf044-38b1-40f5-9974-a47c8933cec5",
   "metadata": {},
   "source": [
    "Comparatively, this bar graph provides a visual representation of the \"Total Human Tasks\" by \"Sector\" replaceable by AI Models. Calculating the proportions of \"Human Tasks\" to \"AI Models\" will provide more insight."
   ]
  },
  {
   "cell_type": "code",
   "execution_count": null,
   "id": "def9b956-1e6b-4986-b598-148b7388ae17",
   "metadata": {},
   "outputs": [],
   "source": [
    "# Merge the AI Models and Human Tasks dataframe and calculate the proportion of Human Tasks to AI Models\n",
    "ai_workload = pd.merge(tasks_by_sectors_df, models_by_sectors_df, on='Sector', how='outer')\n",
    "ai_workload['AI Proportion'] = ai_workload['Human Tasks']/ai_workload['AI Models by Sector']\n",
    "ai_workload"
   ]
  },
  {
   "cell_type": "code",
   "execution_count": null,
   "id": "2edce729-8b45-46f2-a369-ce1ffd3fbb1f",
   "metadata": {},
   "outputs": [],
   "source": [
    "# Use pandas statistical analysis to determine the mean AI workload based on the \"Proportion\" column.\n",
    "ai_workload['AI Proportion'].describe()"
   ]
  },
  {
   "cell_type": "code",
   "execution_count": null,
   "id": "4e441e0b-d18b-4455-a35a-d66a021962c5",
   "metadata": {},
   "outputs": [],
   "source": [
    "# Use statistical visualization to confirm findings\n",
    "plt.boxplot(ai_workload['AI Proportion'])\n",
    "plt.ylabel('AI Workload')\n",
    "plt.tight_layout()\n",
    "plt.savefig('AI_Workload.png', dpi=300)\n",
    "plt.show()"
   ]
  },
  {
   "cell_type": "markdown",
   "id": "b5305b84-ffe1-4908-884e-0f2d6876d452",
   "metadata": {},
   "source": [
    "Based on the total proportions of \"Human Tasks\" to \"AI Models\", the statistical analysis revealed an average AI model workload of 22%, meaning for every individual human task, there are 4-5 AI models being trained as replacements. This shift to a more technological landscape raises many questions while providing insight on future employment trends."
   ]
  }
 ],
 "metadata": {
  "kernelspec": {
   "display_name": "ai_dev",
   "language": "python",
   "name": "ai_dev"
  },
  "language_info": {
   "codemirror_mode": {
    "name": "ipython",
    "version": 3
   },
   "file_extension": ".py",
   "mimetype": "text/x-python",
   "name": "python",
   "nbconvert_exporter": "python",
   "pygments_lexer": "ipython3",
   "version": "3.10.13"
  }
 },
 "nbformat": 4,
 "nbformat_minor": 5
}
