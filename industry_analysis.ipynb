{
 "cells": [
  {
   "cell_type": "code",
   "execution_count": null,
   "id": "5b7209e4-3605-478b-99da-26069ad65d42",
   "metadata": {},
   "outputs": [],
   "source": [
    "# Install the required libraries\n",
    "!pip install prophet"
   ]
  },
  {
   "cell_type": "code",
   "execution_count": null,
   "id": "79c9ded7-b4be-4175-933f-3df2b445cfa8",
   "metadata": {},
   "outputs": [],
   "source": [
    "# Dependencies\n",
    "# NOTE: We might not use all of these. I just improrted everything I can think of for now. We'll delete the ones we don't need later\n",
    "import requests\n",
    "import time\n",
    "from dotenv import load_dotenv\n",
    "import os\n",
    "import pandas as pd\n",
    "import numpy as np\n",
    "import matplotlib.pyplot as plt \n",
    "import json\n",
    "from pathlib import Path"
   ]
  },
  {
   "cell_type": "code",
   "execution_count": null,
   "id": "681e429e-361f-401b-880d-1a9b83533c3b",
   "metadata": {},
   "outputs": [],
   "source": [
    "#Read data into the notebook\n",
    "aicompany_profits_df = pd.read_csv('./data_sets/AI_AmericanCompaniesProfits.csv').dropna()\n",
    "linkedin_postings_df = pd.read_csv('./data_sets/postings.csv').dropna()\n",
    "machine_learning_jobs_df = pd.read_json('./data_sets/job_data.json', lines=True)"
   ]
  },
  {
   "cell_type": "code",
   "execution_count": null,
   "id": "a5275c31-588c-4aa2-9b10-dda7e427c399",
   "metadata": {},
   "outputs": [],
   "source": [
    "print(aicompany_profits_df.head(5))"
   ]
  },
  {
   "cell_type": "markdown",
   "id": "70dad630-f2c6-4262-92c4-a63ffc8c0cdb",
   "metadata": {},
   "source": [
    "***Introduction*** \n",
    "The goal of this exploratory data analysis is to characterize and investigate the growth of machine learning as a job skill. We are interested in looking at this topic along a number angles. TBC...."
   ]
  },
  {
   "cell_type": "markdown",
   "id": "3d17b49a-4c47-4758-817c-2084eed6651d",
   "metadata": {},
   "source": [
    "QUESTION Geography "
   ]
  },
  {
   "cell_type": "code",
   "execution_count": null,
   "id": "8ec3de0c-bc6d-4497-9c21-6ee5549343e3",
   "metadata": {},
   "outputs": [],
   "source": [
    "# Insert Question 1 analysis and visualizations here. Insert new cells if necessary "
   ]
  },
  {
   "cell_type": "markdown",
   "id": "b00c0439-518c-40c7-bd8f-87660d6adb82",
   "metadata": {},
   "source": [
    "Q1 Summary \\[INSERT SUMMARY HERE] ... write a little about what the findings above seem to indicate about question 1"
   ]
  },
  {
   "cell_type": "markdown",
   "id": "c2796093-8afa-492d-a021-b5e54cb2d645",
   "metadata": {},
   "source": [
    "Question 2 Relative proportions ML to not-ML"
   ]
  },
  {
   "cell_type": "code",
   "execution_count": null,
   "id": "18886b70-e0cc-4ecd-a7fd-2ac608dd22fc",
   "metadata": {},
   "outputs": [],
   "source": [
    "# Insert question 2 analysis etc here. Insert new cells if necessary"
   ]
  },
  {
   "cell_type": "markdown",
   "id": "d9d996fe-807b-4a50-a3f0-c76e3b1d5a9d",
   "metadata": {},
   "source": [
    "Q2 Summary \\[INSERT SUMMARY HERE]"
   ]
  },
  {
   "cell_type": "markdown",
   "id": "f1c3e779-2aff-4c12-9ed7-c6ae77e7ea03",
   "metadata": {},
   "source": [
    "Question Job Skills"
   ]
  },
  {
   "cell_type": "code",
   "execution_count": null,
   "id": "6a3dcc07-cb01-458a-a442-2bad3bfcc572",
   "metadata": {},
   "outputs": [],
   "source": [
    "# etc "
   ]
  },
  {
   "cell_type": "markdown",
   "id": "b4e56aec-4370-48c3-81ed-22ed978a51d2",
   "metadata": {},
   "source": [
    "Q3 Summary \\[INSERT SUMMARY HERE]"
   ]
  },
  {
   "cell_type": "markdown",
   "id": "813c3fef-681b-4288-a9e3-5a9cc060e407",
   "metadata": {},
   "source": [
    "Question Seniority/Job level"
   ]
  },
  {
   "cell_type": "code",
   "execution_count": null,
   "id": "8ba54f05-1858-4ac3-890a-03d619c40df3",
   "metadata": {},
   "outputs": [],
   "source": [
    "# etc "
   ]
  },
  {
   "cell_type": "code",
   "execution_count": null,
   "id": "db62c3b9-1466-4cd8-9153-082639039b35",
   "metadata": {},
   "outputs": [],
   "source": []
  },
  {
   "cell_type": "markdown",
   "id": "edbae802-203f-4bda-95e0-ceaf97b8a368",
   "metadata": {},
   "source": [
    "Question 5 Industry demand "
   ]
  },
  {
   "cell_type": "code",
   "execution_count": null,
   "id": "a25ab6db-8187-4d02-aa6f-1654db07ea5a",
   "metadata": {},
   "outputs": [],
   "source": [
    "aicompany_profits_df.describe()"
   ]
  },
  {
   "cell_type": "code",
   "execution_count": null,
   "id": "0e7e4385-3e99-49d9-97d6-f3aa1f5533a5",
   "metadata": {},
   "outputs": [],
   "source": [
    "\n",
    "aicompany_profits_df.info()\n",
    "\n",
    "aicompany_profits_df['Sector'] = aicompany_profits_df['Sector'].str.strip()  # Remove leading/trailing spaces\n",
    "aicompany_profits_df['Sector'] = aicompany_profits_df['Sector'].str.lower()  # Convert to lower case for uniformity\n",
    "aicompany_profits_df['Sector'] = aicompany_profits_df['Sector'].replace('[^\\w\\s]', '', regex=True)  # Remove special characters if not needed\n",
    "\n",
    "# Check unique values in 'Sector' to see if there are still variations that should be the same\n",
    "print(\"Unique Sectors:\", aicompany_profits_df['Sector'].unique())\n",
    "\n",
    "\n",
    "# Define keywords to group sectors\n",
    "keywords = ['fitness', 'tech', 'healthcare', 'retail', 'energy']  # Add or adjust keywords as needed\n",
    "\n",
    "# Function to find and replace based on keywords\n",
    "def group_sectors(sector):\n",
    "    for keyword in keywords:\n",
    "        if keyword in sector:\n",
    "            return keyword\n",
    "    return sector\n"
   ]
  },
  {
   "cell_type": "code",
   "execution_count": null,
   "id": "946d561c-c7be-4b8a-8314-10a4fc27836f",
   "metadata": {},
   "outputs": [],
   "source": [
    "# Define keywords to group sectors\n",
    "keywords = ['fitness', 'tech', 'healthcare', 'retail', 'energy']  # Add or adjust keywords as needed\n",
    "\n",
    "# Function to find and replace based on keywords\n",
    "def group_sectors(sector):\n",
    "    for keyword in keywords:\n",
    "        if keyword in sector:\n",
    "            return keyword\n",
    "    return sector\n",
    "\n",
    "# Apply the function to the 'Sector' column\n",
    "aicompany_profits_df['Sector'] = aicompany_profits_df['Sector'].apply(group_sectors)\n",
    "# Display unique values in 'Sector' to verify changes\n",
    "print(\"Unique Sectors:\", aicompany_profits_df['Sector'].unique())"
   ]
  },
  {
   "cell_type": "code",
   "execution_count": null,
   "id": "9320a90e-660d-4907-94c8-3f3308ca4520",
   "metadata": {},
   "outputs": [],
   "source": [
    "# Define a list of sectors to group into \"Others\"\n",
    "#other_sectors = ['media production', 'entertainment', 'legal services', 'events','waste management','mining','automotive', 'aerospace', 'tourism', 'education', 'industrials', 'fitness', 'marketing', 'agriculture']\n",
    "\n",
    "# Replace specified sectors with \"Others\"\n",
    "# aicompany_profits_df['Sector'] = aicompany_profits_df['Sector'].apply(lambda x: \"others\" if x in other_sectors else x)\n",
    "\n",
    "# Group by 'Sector', summing 'Profits in USD' and counting 'Company Name'\n",
    "sector_data = aicompany_profits_df.groupby('Sector').agg({\n",
    "    'Profits in USD': 'sum',\n",
    "    'Company Name': 'count'\n",
    "}).rename(columns={'Company Name': 'Number of Companies'})\n",
    "\n",
    "# Sort by 'Number of Companies' in descending order \n",
    "top_sectors_by_companies = sector_data.sort_values('Number of Companies', ascending=True)\n",
    "\n",
    "\n",
    "# Plotting Number of Companies by Sector (Horizontal Bar Chart)and take the top 20\n",
    "plt.figure(figsize=(12, 8))\n",
    "plot = top_sectors_by_companies['Number of Companies'].tail(20).plot(kind='barh', color='red')\n",
    "plt.title('Number of Companies by Sector')\n",
    "plt.xlabel('Number of Companies')\n",
    "plt.tight_layout()\n",
    "plt.show()\n",
    "fig = plot.get_figure()\n",
    "fig.savefig('companies.png', dpi=100)\n",
    "\n",
    "# Sort by 'Profits in USD' in descending order\n",
    "sorted_by_profits = sector_data.sort_values('Profits in USD', ascending=True)\n",
    "\n",
    "# Plotting Profits by Sector (Horizontal Bar Chart) and take the top 20\n",
    "plt.figure(figsize=(12, 8))\n",
    "plot = sorted_by_profits['Profits in USD'].tail(20).plot(kind='barh', color='blue')\n",
    "plt.title('Profits by Sector')\n",
    "plt.xlabel('Profits in USD')\n",
    "plt.tight_layout()\n",
    "plt.show()\n",
    "fig = plot.get_figure()\n",
    "fig.savefig('profits.png', dpi=100)\n",
    "\n"
   ]
  },
  {
   "cell_type": "code",
   "execution_count": null,
   "id": "39390c83-585b-453c-a88a-1b7a0b1993b9",
   "metadata": {},
   "outputs": [],
   "source": []
  },
  {
   "cell_type": "code",
   "execution_count": null,
   "id": "1ea4b9a9-bcad-430b-a249-4687fc7d3687",
   "metadata": {},
   "outputs": [],
   "source": []
  }
 ],
 "metadata": {
  "kernelspec": {
   "display_name": "Python 3 (ipykernel)",
   "language": "python",
   "name": "python3"
  },
  "language_info": {
   "codemirror_mode": {
    "name": "ipython",
    "version": 3
   },
   "file_extension": ".py",
   "mimetype": "text/x-python",
   "name": "python",
   "nbconvert_exporter": "python",
   "pygments_lexer": "ipython3",
   "version": "3.12.1"
  }
 },
 "nbformat": 4,
 "nbformat_minor": 5
}
