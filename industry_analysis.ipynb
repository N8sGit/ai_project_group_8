{
 "cells": [
  {
   "cell_type": "code",
   "execution_count": null,
   "id": "5b7209e4-3605-478b-99da-26069ad65d42",
   "metadata": {},
   "outputs": [],
   "source": [
    "# Install the required libraries\n",
    "!pip install prophet"
   ]
  },
  {
   "cell_type": "code",
   "execution_count": null,
   "id": "79c9ded7-b4be-4175-933f-3df2b445cfa8",
   "metadata": {},
   "outputs": [],
   "source": [
    "# Dependencies\n",
    "# NOTE: We might not use all of these. I just improrted everything I can think of for now. We'll delete the ones we don't need later\n",
    "import requests\n",
    "import time\n",
    "from dotenv import load_dotenv\n",
    "import os\n",
    "import pandas as pd\n",
    "import numpy as np\n",
    "import matplotlib.pyplot as plt \n",
    "import json\n",
    "#import path"
   ]
  },
  {
   "cell_type": "code",
   "execution_count": null,
   "id": "681e429e-361f-401b-880d-1a9b83533c3b",
   "metadata": {},
   "outputs": [],
   "source": [
    "#Read data into the notebook\n",
    "linkedin_postings_df = pd.read_csv('./data_sets/postings.csv').dropna()\n",
    "machine_learning_jobs_df = pd.read_json('./data_sets/job_data.json', lines=True)"
   ]
  },
  {
   "cell_type": "markdown",
   "id": "70dad630-f2c6-4262-92c4-a63ffc8c0cdb",
   "metadata": {},
   "source": [
    "***Introduction*** \n",
    "The goal of this exploratory data analysis is to characterize and investigate the growth of machine learning as a job skill. We are interested in looking at this topic along a number angles. TBC...."
   ]
  },
  {
   "cell_type": "markdown",
   "id": "3d17b49a-4c47-4758-817c-2084eed6651d",
   "metadata": {},
   "source": [
    "QUESTION US Census Predictions"
   ]
  },
  {
   "cell_type": "markdown",
   "id": "6c4c5e55",
   "metadata": {},
   "source": [
    "### Additional assets required\n",
    "\n",
    "Importing Prophet and the previously compiled data from the US Census API ACS 5-Year rolling estimates"
   ]
  },
  {
   "cell_type": "code",
   "execution_count": null,
   "id": "42e04062-d256-4482-b9dd-b040b62c3445",
   "metadata": {},
   "outputs": [],
   "source": [
    "# Additional dependencies\n",
    "from prophet import Prophet"
   ]
  },
  {
   "cell_type": "code",
   "execution_count": null,
   "id": "02044164",
   "metadata": {},
   "outputs": [],
   "source": [
    "# Additional data reading\n",
    "combined_acs5 = pd.read_csv('./data_sets/combined_acs5_12-22_data.csv')"
   ]
  },
  {
   "cell_type": "markdown",
   "id": "857a96a6",
   "metadata": {},
   "source": [
    "### Preparing the Data\n",
    "\n",
    "Once imported, the data from the US Census API needs to be manipulated for EDA purposes. This is accomplished by slicing necessary columns from the source DataFrame and calculating other potentially necessary fields from there.\n",
    "\n",
    "The final working DataFrame will be structured as follows;\n",
    "\n",
    "**Name:**\n",
    "> State name\n",
    "\n",
    "**Year:**\n",
    "> Year of 5-year estimate from US Census\n",
    "\n",
    "**population:**\n",
    "> Total population (by count)\n",
    "\n",
    "**employment_employed:**\n",
    "> Total employed population (by count)\n",
    "\n",
    "**employment_unemployed:**\n",
    "> Total unemployed population (by count)\n",
    "\n",
    "**education_none:**\n",
    "> Total population with no formal education (by count)\n",
    "\n",
    "**education_high_school:**\n",
    "> Total population with a high school education (by count)\n",
    "\n",
    "**education_ged:**\n",
    "> Total population with a GED (by count)\n",
    "\n",
    "**education_associates:**\n",
    "> Total population with an associates degree (by count)\n",
    "\n",
    "**education_bachelors:**\n",
    "> Total population with a bachelors degree (by count)\n",
    "\n",
    "**education_masters:**\n",
    "> Total population with a masters degree (by count)\n",
    "\n",
    "**education_professional:**\n",
    "> Total population with on-the-job training (by count)\n",
    "\n",
    "**education_doctorate:**\n",
    "> Total population with a doctorate (by count)\n",
    "\n",
    "**Percent Employed:**\n",
    "> Total employed population (by percentage)\n",
    "\n",
    "**Percent Unemployed:**\n",
    "> TTotal unemployed population (by percentage)\n",
    "\n",
    "**Total Pop in Tech Fields:**\n",
    "> Total population working in directly tech-related sectors (by count)\n",
    "\n",
    "**Percent in Tech Fields:**\n",
    "> Total population working in directly tech-related sectors (by percentage)\n",
    "\n",
    "**Percent No Education:**\n",
    "> Total population with no formal education (by percentage)\n",
    "\n",
    "**Percent High School:**\n",
    "> Total population with a high school education (by percentage)\n",
    "\n",
    "**Percent GED:**\n",
    "> Total population with with a GED (by percentage)\n",
    "\n",
    "**Percent Associates:**\n",
    "> Total population with an associates degree (by percentage)\n",
    "\n",
    "**Percent Bachelors:**\n",
    "> Total population with a bachelors degree (by percentage)\n",
    "\n",
    "**Percent Masters:**\n",
    "> Total population with a masters degree (by percentage)\n",
    "\n",
    "**Percent Professional Education:**\n",
    "> Total population with with on-the-job training (by percentage)\n",
    "\n",
    "**Percent Doctorate:**\n",
    "> Total population with with a doctorate (by percentage)\n",
    "\n",
    "**Note:** While not all columns were used in the final analysis, each played a role during the EDA process."
   ]
  },
  {
   "cell_type": "code",
   "execution_count": null,
   "id": "1d3032bc",
   "metadata": {},
   "outputs": [],
   "source": [
    "# Creating a working DF for population calculations\n",
    "for row in combined_acs5:\n",
    "    # Slicing columns from the UC Sensus data source DataFrame\n",
    "    pop_data = combined_acs5.loc[:,[\n",
    "                'Name',\n",
    "                'Year',\n",
    "                'population',\n",
    "                'employment_employed',\n",
    "                'employment_unemployed',\n",
    "                'education_none',\n",
    "                'education_high_school',\n",
    "                'education_ged',\n",
    "                'education_associates',\n",
    "                'education_bachelors',\n",
    "                'education_masters',\n",
    "                'education_professional',\n",
    "                'education_doctorate'\n",
    "                ]]\n",
    "    # Calculating the percentage of employed and unemployed populations\n",
    "    pop_data['Percent Employed'] = (combined_acs5.loc[:,'employment_employed']/combined_acs5.loc[:,'population']) * 100\n",
    "    pop_data['Percent Unemployed'] = (combined_acs5.loc[:,'employment_unemployed']/combined_acs5.loc[:,'population']) * 100\n",
    "    # Calculating the total and percentage of populations working in tech-related fields\n",
    "    pop_data['Total Pop in Tech Fields'] = (\n",
    "                                            combined_acs5.loc[:,'employment_male_business_and_financial_operations_occupations'] +\n",
    "                                            combined_acs5.loc[:,'employment_male_computer_engineering_and_science_occupations'] +\n",
    "                                            combined_acs5.loc[:,'employment_male_computer_and_mathematical_occupations'] +\n",
    "                                            combined_acs5.loc[:,'employment_female_business_and_financial_operations_occupations'] +\n",
    "                                            combined_acs5.loc[:,'employment_female_computer_engineering_and_science_occupations'] +\n",
    "                                            combined_acs5.loc[:,'employment_female_computer_and_mathematical_occupations']\n",
    "                                        )\n",
    "    pop_data['Percent in Tech Fields'] = (pop_data.loc[:,'Total Pop in Tech Fields']/combined_acs5.loc[:,'population']) * 100\n",
    "    # Calculating the percentage of populations with a given education level\n",
    "    pop_data['Percent No Education'] = (combined_acs5.loc[:,'education_none']/combined_acs5.loc[:,'population']) * 100\n",
    "    pop_data['Percent High School'] = (combined_acs5.loc[:,'education_high_school']/combined_acs5.loc[:,'population']) * 100\n",
    "    pop_data['Percent GED'] = (combined_acs5.loc[:,'education_ged']/combined_acs5.loc[:,'population']) * 100\n",
    "    pop_data['Percent Associates'] = (combined_acs5.loc[:,'education_associates']/combined_acs5.loc[:,'population']) * 100\n",
    "    pop_data['Percent Bachelors'] = (combined_acs5.loc[:,'education_bachelors']/combined_acs5.loc[:,'population']) * 100\n",
    "    pop_data['Percent Masters'] = (combined_acs5.loc[:,'education_masters']/combined_acs5.loc[:,'population']) * 100\n",
    "    pop_data['Percent Professional Education'] = (combined_acs5.loc[:,'education_professional']/combined_acs5.loc[:,'population']) * 100\n",
    "    pop_data['Percent Doctorate'] = (combined_acs5.loc[:,'education_doctorate']/combined_acs5.loc[:,'population']) * 100\n",
    "\n",
    "# Confirming working DF populated correctly\n",
    "display(pop_data.head(3))\n",
    "display(pop_data.tail(3))"
   ]
  },
  {
   "cell_type": "code",
   "execution_count": null,
   "id": "50239f28",
   "metadata": {},
   "outputs": [],
   "source": [
    "# Converting `Year` to Datetime format for future use with Prophet\n",
    "# (`YYYY-12-30 11:59:59` chosen for Datetime format since data only came with `YYYY`)\n",
    "pop_data['Year'] = pd.to_datetime({'year': pop_data['Year'],\n",
    "                                   'month': 12,\n",
    "                                   'day': 30,\n",
    "                                   'hour': 11,\n",
    "                                   'minute': 59,\n",
    "                                   'second': 59\n",
    "                                    })\n",
    "\n",
    "# Verifying applied correctly\n",
    "# Confirming working DF populated correctly\n",
    "display(pop_data.head(3))\n",
    "display(pop_data.tail(3))"
   ]
  },
  {
   "cell_type": "markdown",
   "id": "105e9156",
   "metadata": {},
   "source": [
    "### Further Data Exploration\n",
    "\n",
    "Examining values and data types to prepare for more direct analysis"
   ]
  },
  {
   "cell_type": "code",
   "execution_count": null,
   "id": "bdce3125",
   "metadata": {},
   "outputs": [],
   "source": [
    "# Confirming unique States\n",
    "pop_data['Name'].value_counts()"
   ]
  },
  {
   "cell_type": "code",
   "execution_count": null,
   "id": "23d0251a",
   "metadata": {},
   "outputs": [],
   "source": [
    "# Confirming data types for `pop_data`\n",
    "pop_data.dtypes"
   ]
  },
  {
   "cell_type": "markdown",
   "id": "8b21b510",
   "metadata": {},
   "source": [
    "### Slicing Data\n",
    "\n",
    "Preparing slices of data for use with Prophet"
   ]
  },
  {
   "cell_type": "code",
   "execution_count": null,
   "id": "2da00127",
   "metadata": {},
   "outputs": [],
   "source": [
    "# Slicing data into working DFs for future use with Prophet\n",
    "# For total population\n",
    "slice_pop = pop_data.loc[:,[\n",
    "                        'Name',\n",
    "                        'Year',\n",
    "                        'population'\n",
    "                        ]]\n",
    "\n",
    "# For total employed population\n",
    "slice_emp_tot = pop_data.loc[:,[\n",
    "                            'Name',\n",
    "                            'Year',\n",
    "                            'employment_employed'\n",
    "                            ]]\n",
    "\n",
    "# For percentage of employed population\n",
    "slice_emp_pct = pop_data.loc[:,[\n",
    "                            'Name',\n",
    "                            'Year',\n",
    "                            'Percent Employed'\n",
    "                            ]]\n",
    "\n",
    "# For total unemployed population\n",
    "slice_unemp_tot = pop_data.loc[:,[\n",
    "                            'Name',\n",
    "                            'Year',\n",
    "                            'employment_unemployed'\n",
    "                            ]]\n",
    "\n",
    "# For percentage of unemployed population\n",
    "slice_unemp_pct = pop_data.loc[:,[\n",
    "                            'Name',\n",
    "                            'Year',\n",
    "                            'Percent Unemployed'\n",
    "                            ]]\n",
    "\n",
    "# For total with no education\n",
    "slice_edu_non_tot = pop_data.loc[:,[\n",
    "                                'Name',\n",
    "                                'Year',\n",
    "                                'education_none'\n",
    "                                ]]\n",
    "\n",
    "# For percentage with no education\n",
    "slice_edu_non_pct = pop_data.loc[:,[\n",
    "                                'Name',\n",
    "                                'Year',\n",
    "                                'Percent No Education'\n",
    "                                ]]\n",
    "\n",
    "# For total with high school diploma\n",
    "slice_edu_hs_tot = pop_data.loc[:,[\n",
    "                                'Name',\n",
    "                                'Year',\n",
    "                                'education_high_school'\n",
    "                                ]]\n",
    "\n",
    "# For percentage with high school diploma\n",
    "slice_edu_hs_pct = pop_data.loc[:,[\n",
    "                                'Name',\n",
    "                                'Year',\n",
    "                                'Percent High School'\n",
    "                                ]]\n",
    "\n",
    "# For total with GED\n",
    "slice_edu_ged_tot = pop_data.loc[:,[\n",
    "                                'Name',\n",
    "                                'Year',\n",
    "                                'education_ged'\n",
    "                                ]]\n",
    "\n",
    "# For percentage with GED\n",
    "slice_edu_ged_pct = pop_data.loc[:,[\n",
    "                                'Name',\n",
    "                                'Year',\n",
    "                                'Percent GED'\n",
    "                                ]]\n",
    "\n",
    "# For total with associates degree\n",
    "slice_edu_asc_tot = pop_data.loc[:,[\n",
    "                                'Name',\n",
    "                                'Year',\n",
    "                                'education_associates'\n",
    "                                ]]\n",
    "\n",
    "# For percentage with associates degree\n",
    "slice_edu_asc_pct = pop_data.loc[:,[\n",
    "                                'Name',\n",
    "                                'Year',\n",
    "                                'Percent Associates'\n",
    "                                ]]\n",
    "\n",
    "# For total with bachelors degree\n",
    "slice_edu_bch_tot = pop_data.loc[:,[\n",
    "                                'Name',\n",
    "                                'Year',\n",
    "                                'education_bachelors'\n",
    "                                ]]\n",
    "\n",
    "# For percentage with bachelors degree\n",
    "slice_edu_bch_pct = pop_data.loc[:,[\n",
    "                                'Name',\n",
    "                                'Year',\n",
    "                                'Percent Bachelors'\n",
    "                                ]]\n",
    "\n",
    "# For total with masters degree\n",
    "slice_edu_mst_tot = pop_data.loc[:,[\n",
    "                                'Name',\n",
    "                                'Year',\n",
    "                                'education_masters'\n",
    "                                ]]\n",
    "\n",
    "# For percentage with masters degree\n",
    "slice_edu_mst_pct = pop_data.loc[:,[\n",
    "                                'Name',\n",
    "                                'Year',\n",
    "                                'Percent Masters'\n",
    "                                ]]\n",
    "\n",
    "# For total with professional education\n",
    "slice_edu_prf_tot = pop_data.loc[:,[\n",
    "                                'Name',\n",
    "                                'Year',\n",
    "                                'education_professional'\n",
    "                                ]]\n",
    "\n",
    "# For percentage with professional education \n",
    "slice_edu_prf_pct = pop_data.loc[:,[\n",
    "                                'Name',\n",
    "                                'Year',\n",
    "                                'Percent Professional Education'\n",
    "                                ]]\n",
    "\n",
    "# For total with doctorate\n",
    "slice_edu_doc_tot = pop_data.loc[:,[\n",
    "                                'Name',\n",
    "                                'Year',\n",
    "                                'education_doctorate'\n",
    "                                ]]\n",
    "\n",
    "# For percentage with doctorate \n",
    "slice_edu_doc_pct = pop_data.loc[:,[\n",
    "                                'Name',\n",
    "                                'Year',\n",
    "                                'Percent Doctorate'\n",
    "                                ]]\n",
    "\n",
    "# For total working in tech-related fields\n",
    "slice_tech_tot = pop_data.loc[:,[\n",
    "                            'Name',\n",
    "                            'Year',\n",
    "                            'Total Pop in Tech Fields'\n",
    "                            ]]\n",
    "\n",
    "# For percentage working in tech-related fields\n",
    "slice_tech_pct = pop_data.loc[:,[\n",
    "                            'Name',\n",
    "                            'Year',\n",
    "                            'Percent in Tech Fields'\n",
    "                            ]]"
   ]
  },
  {
   "cell_type": "markdown",
   "id": "e90664e5",
   "metadata": {},
   "source": [
    "### National Trends\n",
    "\n",
    "Applying slices to a National scale to explore trends and correlations"
   ]
  },
  {
   "cell_type": "code",
   "execution_count": null,
   "id": "746e64f6",
   "metadata": {},
   "outputs": [],
   "source": [
    "# Grouping data from slices for National analysis\n",
    "\n",
    "# Grouping percentatge of unemployed population by year\n",
    "national_unemp = slice_unemp_pct[['Year', 'Percent Unemployed']].groupby('Year').mean()\n",
    "\n",
    "# Resetting the index for the grouped slice\n",
    "national_unemp.reset_index(inplace=True)\n",
    "\n",
    "# Renaming columns for use with Prophet\n",
    "national_unemp.rename(columns={\n",
    "                        'Year': 'ds',\n",
    "                        'Percent Unemployed': 'y'\n",
    "                    }, inplace=True)\n",
    "\n",
    "\n",
    "# Grouping percentatge of population employed in tech-related fields\n",
    "national_tech = slice_tech_pct[['Year', 'Percent in Tech Fields']].groupby('Year').mean()\n",
    "\n",
    "# Resetting the index for the grouped slice\n",
    "national_tech.reset_index(inplace=True)\n",
    "\n",
    "# Renaming columns for use with Prophet\n",
    "national_tech.rename(columns={\n",
    "                        'Year': 'ds',\n",
    "                        'Percent in Tech Fields': 'y'\n",
    "                    }, inplace=True)\n",
    "\n",
    "\n",
    "# Grouping percentatge of population with no education by year\n",
    "national_edu_non = slice_edu_non_pct[['Year', 'Percent No Education']].groupby('Year').mean()\n",
    "\n",
    "# Resetting the index for the grouped slice\n",
    "national_edu_non.reset_index(inplace=True)\n",
    "\n",
    "# Renaming columns for use with Prophet\n",
    "national_edu_non.rename(columns={\n",
    "                            'Year': 'ds',\n",
    "                            'Percent No Education': 'y'\n",
    "                        }, inplace=True)\n",
    "\n",
    "\n",
    "# Grouping percentatge of population with a high school education by year\n",
    "national_edu_hs = slice_edu_hs_pct[['Year', 'Percent High School']].groupby('Year').mean()\n",
    "\n",
    "# Resetting the index for the grouped slice\n",
    "national_edu_hs.reset_index(inplace=True)\n",
    "\n",
    "# Renaming columns for use with Prophet\n",
    "national_edu_hs.rename(columns={\n",
    "                            'Year': 'ds',\n",
    "                            'Percent High School': 'y'\n",
    "                        }, inplace=True)\n",
    "\n",
    "\n",
    "# Grouping percentatge of population with a GED by year\n",
    "national_edu_ged = slice_edu_ged_pct[['Year', 'Percent GED']].groupby('Year').mean()\n",
    "\n",
    "# Resetting the index for the grouped slice\n",
    "national_edu_ged.reset_index(inplace=True)\n",
    "\n",
    "# Renaming columns for use with Prophet\n",
    "national_edu_ged.rename(columns={\n",
    "                            'Year': 'ds',\n",
    "                            'Percent GED': 'y'\n",
    "                        }, inplace=True)\n",
    "\n",
    "\n",
    "# Grouping percentatge of population with an associates degree by year\n",
    "national_edu_asc = slice_edu_asc_pct[['Year', 'Percent Associates']].groupby('Year').mean()\n",
    "\n",
    "# Resetting the index for the grouped slice\n",
    "national_edu_asc.reset_index(inplace=True)\n",
    "\n",
    "# Renaming columns for use with Prophet\n",
    "national_edu_asc.rename(columns={\n",
    "                            'Year': 'ds',\n",
    "                            'Percent Associates': 'y'\n",
    "                        }, inplace=True)\n",
    "\n",
    "\n",
    "# Grouping percentatge of population with a bachelors degree by year\n",
    "national_edu_bch = slice_edu_bch_pct[['Year', 'Percent Bachelors']].groupby('Year').mean()\n",
    "\n",
    "# Resetting the index for the grouped slice\n",
    "national_edu_bch.reset_index(inplace=True)\n",
    "\n",
    "# Renaming columns for use with Prophet\n",
    "national_edu_bch.rename(columns={\n",
    "                            'Year': 'ds',\n",
    "                            'Percent Bachelors': 'y'\n",
    "                        }, inplace=True)\n",
    "\n",
    "\n",
    "# Grouping percentatge of population with a professional education by year\n",
    "national_edu_prf = slice_edu_prf_pct[['Year', 'Percent Professional Education']].groupby('Year').mean()\n",
    "\n",
    "# Resetting the index for the grouped slice\n",
    "national_edu_prf.reset_index(inplace=True)\n",
    "\n",
    "# Renaming columns for use with Prophet\n",
    "national_edu_prf.rename(columns={\n",
    "                            'Year': 'ds',\n",
    "                            'Percent Professional Education': 'y'\n",
    "                        }, inplace=True)"
   ]
  },
  {
   "cell_type": "markdown",
   "id": "bb06bb3d",
   "metadata": {},
   "source": [
    "# Below\n",
    "\n",
    "Testing Prophet functions, nothing committed as of yet."
   ]
  },
  {
   "cell_type": "code",
   "execution_count": null,
   "id": "26548795",
   "metadata": {},
   "outputs": [],
   "source": [
    "test_slice = slice_tech_pct[['Year', 'Percent in Tech Fields']]\\\n",
    "            .loc[slice_tech_pct['Name'] == 'Washington']\n",
    "            \n",
    "            \n",
    "test_slice.rename(columns={\n",
    "                'Year': 'ds',\n",
    "                'Percent in Tech Fields': 'y'\n",
    "                }, inplace=True)\n",
    "\n",
    "test_slice.head(11)"
   ]
  },
  {
   "cell_type": "code",
   "execution_count": null,
   "id": "5f7a1023",
   "metadata": {},
   "outputs": [],
   "source": [
    "national_avg_pct = pop_data[[\n",
    "                            'Year',\n",
    "                            'Percent Unemployed',\n",
    "                            'Percent in Tech Fields',\n",
    "                            'Percent No Education',\n",
    "                            'Percent High School',\n",
    "                            'Percent GED',\n",
    "                            'Percent Associates',\n",
    "                            'Percent Bachelors',\n",
    "                            'Percent Professional Education'\n",
    "                           ]].groupby('Year').mean()"
   ]
  },
  {
   "cell_type": "code",
   "execution_count": null,
   "id": "ef3260ee",
   "metadata": {},
   "outputs": [],
   "source": [
    "national_avg_pct[[\n",
    "                  'Percent in Tech Fields',\n",
    "                  'Percent Unemployed',\n",
    "                  'Percent No Education',\n",
    "                  'Percent High School',\n",
    "                  'Percent GED',\n",
    "                  'Percent Professional Education'\n",
    "                ]].corr()"
   ]
  },
  {
   "cell_type": "code",
   "execution_count": null,
   "id": "fa2187e3",
   "metadata": {},
   "outputs": [],
   "source": [
    "m_n_t = Prophet()"
   ]
  },
  {
   "cell_type": "code",
   "execution_count": null,
   "id": "7bb9f249",
   "metadata": {},
   "outputs": [],
   "source": [
    "m_n_t.fit(national_tech)"
   ]
  },
  {
   "cell_type": "code",
   "execution_count": null,
   "id": "028198f5",
   "metadata": {},
   "outputs": [],
   "source": [
    "n_tech_future = m_n_t.make_future_dataframe(periods=5, freq='YE')"
   ]
  },
  {
   "cell_type": "code",
   "execution_count": null,
   "id": "7f1732b7",
   "metadata": {},
   "outputs": [],
   "source": [
    "n_tech_forecast = m_n_t.predict(n_tech_future)"
   ]
  },
  {
   "cell_type": "code",
   "execution_count": null,
   "id": "5e512640",
   "metadata": {},
   "outputs": [],
   "source": [
    "m_n_t.plot(n_tech_forecast)"
   ]
  },
  {
   "cell_type": "code",
   "execution_count": null,
   "id": "d53549b2",
   "metadata": {},
   "outputs": [],
   "source": [
    "m_n_e_p = Prophet()"
   ]
  },
  {
   "cell_type": "code",
   "execution_count": null,
   "id": "ff7e26f4",
   "metadata": {},
   "outputs": [],
   "source": [
    "m_n_e_p.fit(national_edu_prf)"
   ]
  },
  {
   "cell_type": "code",
   "execution_count": null,
   "id": "b6061674",
   "metadata": {},
   "outputs": [],
   "source": [
    "n_prf_future = m_n_e_p.make_future_dataframe(periods=5, freq='YE')"
   ]
  },
  {
   "cell_type": "code",
   "execution_count": null,
   "id": "d5dc4abb",
   "metadata": {},
   "outputs": [],
   "source": [
    "n_prf_forecast = m_n_e_p.predict(n_prf_future)"
   ]
  },
  {
   "cell_type": "code",
   "execution_count": null,
   "id": "19a97b17",
   "metadata": {},
   "outputs": [],
   "source": [
    "m_n_e_p.plot(n_prf_forecast)"
   ]
  },
  {
   "cell_type": "code",
   "execution_count": null,
   "id": "b422e29c",
   "metadata": {},
   "outputs": [],
   "source": [
    "m_n_e_a = Prophet()"
   ]
  },
  {
   "cell_type": "code",
   "execution_count": null,
   "id": "5250a483",
   "metadata": {},
   "outputs": [],
   "source": [
    "m_n_e_a.fit(national_edu_asc)"
   ]
  },
  {
   "cell_type": "code",
   "execution_count": null,
   "id": "a314a801",
   "metadata": {},
   "outputs": [],
   "source": [
    "n_asc_future = m_n_e_a.make_future_dataframe(periods=5, freq='YE')"
   ]
  },
  {
   "cell_type": "code",
   "execution_count": null,
   "id": "8ea2660b",
   "metadata": {},
   "outputs": [],
   "source": [
    "n_asc_forecast = m_n_e_a.predict(n_asc_future)"
   ]
  },
  {
   "cell_type": "code",
   "execution_count": null,
   "id": "8f04eb33",
   "metadata": {},
   "outputs": [],
   "source": [
    "m_n_e_a.plot(n_asc_forecast)"
   ]
  },
  {
   "cell_type": "code",
   "execution_count": null,
   "id": "ccfd857d",
   "metadata": {},
   "outputs": [],
   "source": [
    "m_n_e_h = Prophet()"
   ]
  },
  {
   "cell_type": "code",
   "execution_count": null,
   "id": "ef1092d7",
   "metadata": {},
   "outputs": [],
   "source": [
    "m_n_e_h.fit(national_edu_hs)"
   ]
  },
  {
   "cell_type": "code",
   "execution_count": null,
   "id": "8aae893b",
   "metadata": {},
   "outputs": [],
   "source": [
    "n_hs_future = m_n_e_h.make_future_dataframe(periods=5, freq='YE')"
   ]
  },
  {
   "cell_type": "code",
   "execution_count": null,
   "id": "febf8fe8",
   "metadata": {},
   "outputs": [],
   "source": [
    "n_hs_forecast = m_n_e_h.predict(n_hs_future)"
   ]
  },
  {
   "cell_type": "code",
   "execution_count": null,
   "id": "6ebcfedd",
   "metadata": {},
   "outputs": [],
   "source": [
    "m_n_e_h.plot(n_hs_forecast)"
   ]
  },
  {
   "cell_type": "code",
   "execution_count": null,
   "id": "c78568e5",
   "metadata": {},
   "outputs": [],
   "source": [
    "m_n_e_g = Prophet()"
   ]
  },
  {
   "cell_type": "code",
   "execution_count": null,
   "id": "decec6e4",
   "metadata": {},
   "outputs": [],
   "source": [
    "m_n_e_g.fit(national_edu_ged)"
   ]
  },
  {
   "cell_type": "code",
   "execution_count": null,
   "id": "6bd7b3f1",
   "metadata": {},
   "outputs": [],
   "source": [
    "n_ged_future = m_n_e_g.make_future_dataframe(periods=5, freq='YE')"
   ]
  },
  {
   "cell_type": "code",
   "execution_count": null,
   "id": "a513cb4c",
   "metadata": {},
   "outputs": [],
   "source": [
    "n_ged_forecast = m_n_e_g.predict(n_ged_future)"
   ]
  },
  {
   "cell_type": "code",
   "execution_count": null,
   "id": "7bf0d9d3",
   "metadata": {},
   "outputs": [],
   "source": [
    "m_n_e_g.plot(n_ged_forecast)"
   ]
  },
  {
   "cell_type": "code",
   "execution_count": null,
   "id": "eb576e59",
   "metadata": {},
   "outputs": [],
   "source": [
    "m_n_u = Prophet()"
   ]
  },
  {
   "cell_type": "code",
   "execution_count": null,
   "id": "7359b49f",
   "metadata": {},
   "outputs": [],
   "source": [
    "m_n_u.fit(national_unemp)"
   ]
  },
  {
   "cell_type": "code",
   "execution_count": null,
   "id": "172543c9",
   "metadata": {},
   "outputs": [],
   "source": [
    "n_unemp_future = m_n_u.make_future_dataframe(periods=5, freq='YE')"
   ]
  },
  {
   "cell_type": "code",
   "execution_count": null,
   "id": "29776f01",
   "metadata": {},
   "outputs": [],
   "source": [
    "n_unemp_forecast = m_n_u.predict(n_unemp_future)"
   ]
  },
  {
   "cell_type": "code",
   "execution_count": null,
   "id": "8cca245d",
   "metadata": {},
   "outputs": [],
   "source": [
    "m_n_u.plot(n_unemp_forecast)"
   ]
  },
  {
   "cell_type": "code",
   "execution_count": null,
   "id": "e8c2d211",
   "metadata": {},
   "outputs": [],
   "source": []
  },
  {
   "cell_type": "code",
   "execution_count": null,
   "id": "8ec3de0c-bc6d-4497-9c21-6ee5549343e3",
   "metadata": {},
   "outputs": [],
   "source": [
    "# Insert Question 1 analysis and visualizations here. Insert new cells if necessary "
   ]
  },
  {
   "cell_type": "markdown",
   "id": "b00c0439-518c-40c7-bd8f-87660d6adb82",
   "metadata": {},
   "source": [
    "Q1 Summary \\[INSERT SUMMARY HERE] ... write a little about what the findings above seem to indicate about question 1"
   ]
  },
  {
   "cell_type": "markdown",
   "id": "c2796093-8afa-492d-a021-b5e54cb2d645",
   "metadata": {},
   "source": [
    "Question 2 Relative proportions ML to not-ML"
   ]
  },
  {
   "cell_type": "code",
   "execution_count": null,
   "id": "18886b70-e0cc-4ecd-a7fd-2ac608dd22fc",
   "metadata": {},
   "outputs": [],
   "source": [
    "# Insert question 2 analysis etc here. Insert new cells if necessary"
   ]
  },
  {
   "cell_type": "markdown",
   "id": "d9d996fe-807b-4a50-a3f0-c76e3b1d5a9d",
   "metadata": {},
   "source": [
    "Q2 Summary \\[INSERT SUMMARY HERE]"
   ]
  },
  {
   "cell_type": "markdown",
   "id": "f1c3e779-2aff-4c12-9ed7-c6ae77e7ea03",
   "metadata": {},
   "source": [
    "Question Job Skills"
   ]
  },
  {
   "cell_type": "code",
   "execution_count": null,
   "id": "6a3dcc07-cb01-458a-a442-2bad3bfcc572",
   "metadata": {},
   "outputs": [],
   "source": [
    "# etc "
   ]
  },
  {
   "cell_type": "markdown",
   "id": "b4e56aec-4370-48c3-81ed-22ed978a51d2",
   "metadata": {},
   "source": [
    "Q3 Summary \\[INSERT SUMMARY HERE]"
   ]
  },
  {
   "cell_type": "markdown",
   "id": "813c3fef-681b-4288-a9e3-5a9cc060e407",
   "metadata": {},
   "source": [
    "Question Seniority/Job level"
   ]
  },
  {
   "cell_type": "code",
   "execution_count": null,
   "id": "8ba54f05-1858-4ac3-890a-03d619c40df3",
   "metadata": {},
   "outputs": [],
   "source": [
    "# etc "
   ]
  },
  {
   "cell_type": "code",
   "execution_count": null,
   "id": "db62c3b9-1466-4cd8-9153-082639039b35",
   "metadata": {},
   "outputs": [],
   "source": []
  },
  {
   "cell_type": "markdown",
   "id": "edbae802-203f-4bda-95e0-ceaf97b8a368",
   "metadata": {},
   "source": [
    "Question 5 Industry demand "
   ]
  },
  {
   "cell_type": "code",
   "execution_count": null,
   "id": "0e7e4385-3e99-49d9-97d6-f3aa1f5533a5",
   "metadata": {},
   "outputs": [],
   "source": []
  }
 ],
 "metadata": {
  "kernelspec": {
   "display_name": "ai_dev",
   "language": "python",
   "name": "ai_dev"
  },
  "language_info": {
   "codemirror_mode": {
    "name": "ipython",
    "version": 3
   },
   "file_extension": ".py",
   "mimetype": "text/x-python",
   "name": "python",
   "nbconvert_exporter": "python",
   "pygments_lexer": "ipython3",
   "version": "3.10.13"
  }
 },
 "nbformat": 4,
 "nbformat_minor": 5
}
